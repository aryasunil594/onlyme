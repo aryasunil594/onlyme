{
  "cells": [
    {
      "cell_type": "code",
      "execution_count": null,
      "id": "670d06f1",
      "metadata": {
        "execution": {
          "iopub.execute_input": "2023-09-08T13:37:26.645779Z",
          "iopub.status.busy": "2023-09-08T13:37:26.645406Z",
          "iopub.status.idle": "2023-09-08T13:37:37.805777Z",
          "shell.execute_reply": "2023-09-08T13:37:37.804741Z"
        },
        "papermill": {
          "duration": 11.171638,
          "end_time": "2023-09-08T13:37:37.808239",
          "exception": false,
          "start_time": "2023-09-08T13:37:26.636601",
          "status": "completed"
        },
        "tags": [],
        "id": "670d06f1"
      },
      "outputs": [],
      "source": [
        "# Import necessary libraries\n",
        "from tensorflow import keras\n",
        "from tensorflow.keras import layers\n",
        "import pandas as pd\n",
        "import numpy as np\n",
        "import tensorflow as tf\n",
        "import matplotlib.pyplot as plt\n",
        "import seaborn as sns\n",
        "from sklearn.metrics import roc_curve, auc\n",
        "from sklearn.metrics import classification_report, confusion_matrix\n",
        "from sklearn.model_selection import train_test_split\n",
        "from sklearn.preprocessing import StandardScaler\n",
        "from sklearn.ensemble import IsolationForest  # Import Isolation Forest"
      ]
    },
    {
      "cell_type": "code",
      "execution_count": null,
      "id": "78de594b",
      "metadata": {
        "execution": {
          "iopub.execute_input": "2023-09-08T13:37:37.823186Z",
          "iopub.status.busy": "2023-09-08T13:37:37.822670Z",
          "iopub.status.idle": "2023-09-08T13:37:41.571746Z",
          "shell.execute_reply": "2023-09-08T13:37:41.570705Z"
        },
        "papermill": {
          "duration": 3.7596,
          "end_time": "2023-09-08T13:37:41.574721",
          "exception": false,
          "start_time": "2023-09-08T13:37:37.815121",
          "status": "completed"
        },
        "tags": [],
        "id": "78de594b"
      },
      "outputs": [],
      "source": [
        "# Load the synthetic dataset\n",
        "data = pd.read_csv('/content/synthetic_network_traffic.csv')\n"
      ]
    },
    {
      "cell_type": "code",
      "execution_count": null,
      "id": "976db7c4",
      "metadata": {
        "execution": {
          "iopub.execute_input": "2023-09-08T13:37:41.588958Z",
          "iopub.status.busy": "2023-09-08T13:37:41.588664Z",
          "iopub.status.idle": "2023-09-08T13:37:41.613286Z",
          "shell.execute_reply": "2023-09-08T13:37:41.612302Z"
        },
        "papermill": {
          "duration": 0.034389,
          "end_time": "2023-09-08T13:37:41.615856",
          "exception": false,
          "start_time": "2023-09-08T13:37:41.581467",
          "status": "completed"
        },
        "tags": [],
        "id": "976db7c4"
      },
      "outputs": [],
      "source": [
        "\n",
        "# Feature Engineering: Generate additional features (you can customize this)\n",
        "data['TotalBytes'] = data['BytesSent'] + data['BytesReceived']\n",
        "data['TotalPackets'] = data['PacketsSent'] + data['PacketsReceived']\n"
      ]
    },
    {
      "cell_type": "code",
      "execution_count": null,
      "id": "a3af3ca0",
      "metadata": {
        "execution": {
          "iopub.execute_input": "2023-09-08T13:37:41.629998Z",
          "iopub.status.busy": "2023-09-08T13:37:41.629706Z",
          "iopub.status.idle": "2023-09-08T13:37:41.681104Z",
          "shell.execute_reply": "2023-09-08T13:37:41.680155Z"
        },
        "papermill": {
          "duration": 0.061291,
          "end_time": "2023-09-08T13:37:41.683652",
          "exception": false,
          "start_time": "2023-09-08T13:37:41.622361",
          "status": "completed"
        },
        "tags": [],
        "id": "a3af3ca0"
      },
      "outputs": [],
      "source": [
        "# Oversample the 'Anomaly' class to balance the class distribution\n",
        "anomaly_data = data[data['IsAnomaly'] == 1]\n",
        "oversampled_data = pd.concat([data, anomaly_data], axis=0)\n"
      ]
    },
    {
      "cell_type": "code",
      "execution_count": null,
      "id": "f3f63b0f",
      "metadata": {
        "execution": {
          "iopub.execute_input": "2023-09-08T13:37:41.698427Z",
          "iopub.status.busy": "2023-09-08T13:37:41.698087Z",
          "iopub.status.idle": "2023-09-08T13:37:41.742963Z",
          "shell.execute_reply": "2023-09-08T13:37:41.741936Z"
        },
        "papermill": {
          "duration": 0.055046,
          "end_time": "2023-09-08T13:37:41.745224",
          "exception": false,
          "start_time": "2023-09-08T13:37:41.690178",
          "status": "completed"
        },
        "tags": [],
        "id": "f3f63b0f"
      },
      "outputs": [],
      "source": [
        "# Split the dataset into features and labels\n",
        "X = oversampled_data.drop(columns=['IsAnomaly'])  # Features\n",
        "y = oversampled_data['IsAnomaly']  # Labels"
      ]
    },
    {
      "cell_type": "code",
      "execution_count": null,
      "id": "ce6a5894",
      "metadata": {
        "execution": {
          "iopub.execute_input": "2023-09-08T13:37:41.760838Z",
          "iopub.status.busy": "2023-09-08T13:37:41.760006Z",
          "iopub.status.idle": "2023-09-08T13:37:42.020049Z",
          "shell.execute_reply": "2023-09-08T13:37:42.019069Z"
        },
        "papermill": {
          "duration": 0.270408,
          "end_time": "2023-09-08T13:37:42.022583",
          "exception": false,
          "start_time": "2023-09-08T13:37:41.752175",
          "status": "completed"
        },
        "tags": [],
        "id": "ce6a5894"
      },
      "outputs": [],
      "source": [
        "# Split the dataset into training, validation, and testing sets\n",
        "X_train, X_temp, y_train, y_temp = train_test_split(X, y, test_size=0.3, random_state=42)\n",
        "X_val, X_test, y_val, y_test = train_test_split(X_temp, y_temp, test_size=0.5, random_state=42)\n"
      ]
    },
    {
      "cell_type": "code",
      "execution_count": null,
      "id": "111c0fb2",
      "metadata": {
        "execution": {
          "iopub.execute_input": "2023-09-08T13:37:42.036739Z",
          "iopub.status.busy": "2023-09-08T13:37:42.036440Z",
          "iopub.status.idle": "2023-09-08T13:37:42.222218Z",
          "shell.execute_reply": "2023-09-08T13:37:42.221111Z"
        },
        "papermill": {
          "duration": 0.195837,
          "end_time": "2023-09-08T13:37:42.224952",
          "exception": false,
          "start_time": "2023-09-08T13:37:42.029115",
          "status": "completed"
        },
        "tags": [],
        "id": "111c0fb2"
      },
      "outputs": [],
      "source": [
        "# Standardize the features\n",
        "scaler = StandardScaler()\n",
        "X_train = scaler.fit_transform(X_train)\n",
        "X_val = scaler.transform(X_val)\n",
        "X_test = scaler.transform(X_test)"
      ]
    },
    {
      "cell_type": "code",
      "execution_count": null,
      "id": "47a9272a",
      "metadata": {
        "execution": {
          "iopub.execute_input": "2023-09-08T13:37:42.241994Z",
          "iopub.status.busy": "2023-09-08T13:37:42.241681Z",
          "iopub.status.idle": "2023-09-08T13:37:59.502238Z",
          "shell.execute_reply": "2023-09-08T13:37:59.501192Z"
        },
        "papermill": {
          "duration": 17.271136,
          "end_time": "2023-09-08T13:37:59.504345",
          "exception": false,
          "start_time": "2023-09-08T13:37:42.233209",
          "status": "completed"
        },
        "tags": [],
        "colab": {
          "base_uri": "https://localhost:8080/",
          "height": 80
        },
        "id": "47a9272a",
        "outputId": "b1b81e1c-850f-4c67-9f94-5135fdabef03"
      },
      "outputs": [
        {
          "output_type": "execute_result",
          "data": {
            "text/plain": [
              "IsolationForest(contamination=0.1, random_state=42)"
            ],
            "text/html": [
              "<style>#sk-container-id-1 {\n",
              "  /* Definition of color scheme common for light and dark mode */\n",
              "  --sklearn-color-text: #000;\n",
              "  --sklearn-color-text-muted: #666;\n",
              "  --sklearn-color-line: gray;\n",
              "  /* Definition of color scheme for unfitted estimators */\n",
              "  --sklearn-color-unfitted-level-0: #fff5e6;\n",
              "  --sklearn-color-unfitted-level-1: #f6e4d2;\n",
              "  --sklearn-color-unfitted-level-2: #ffe0b3;\n",
              "  --sklearn-color-unfitted-level-3: chocolate;\n",
              "  /* Definition of color scheme for fitted estimators */\n",
              "  --sklearn-color-fitted-level-0: #f0f8ff;\n",
              "  --sklearn-color-fitted-level-1: #d4ebff;\n",
              "  --sklearn-color-fitted-level-2: #b3dbfd;\n",
              "  --sklearn-color-fitted-level-3: cornflowerblue;\n",
              "\n",
              "  /* Specific color for light theme */\n",
              "  --sklearn-color-text-on-default-background: var(--sg-text-color, var(--theme-code-foreground, var(--jp-content-font-color1, black)));\n",
              "  --sklearn-color-background: var(--sg-background-color, var(--theme-background, var(--jp-layout-color0, white)));\n",
              "  --sklearn-color-border-box: var(--sg-text-color, var(--theme-code-foreground, var(--jp-content-font-color1, black)));\n",
              "  --sklearn-color-icon: #696969;\n",
              "\n",
              "  @media (prefers-color-scheme: dark) {\n",
              "    /* Redefinition of color scheme for dark theme */\n",
              "    --sklearn-color-text-on-default-background: var(--sg-text-color, var(--theme-code-foreground, var(--jp-content-font-color1, white)));\n",
              "    --sklearn-color-background: var(--sg-background-color, var(--theme-background, var(--jp-layout-color0, #111)));\n",
              "    --sklearn-color-border-box: var(--sg-text-color, var(--theme-code-foreground, var(--jp-content-font-color1, white)));\n",
              "    --sklearn-color-icon: #878787;\n",
              "  }\n",
              "}\n",
              "\n",
              "#sk-container-id-1 {\n",
              "  color: var(--sklearn-color-text);\n",
              "}\n",
              "\n",
              "#sk-container-id-1 pre {\n",
              "  padding: 0;\n",
              "}\n",
              "\n",
              "#sk-container-id-1 input.sk-hidden--visually {\n",
              "  border: 0;\n",
              "  clip: rect(1px 1px 1px 1px);\n",
              "  clip: rect(1px, 1px, 1px, 1px);\n",
              "  height: 1px;\n",
              "  margin: -1px;\n",
              "  overflow: hidden;\n",
              "  padding: 0;\n",
              "  position: absolute;\n",
              "  width: 1px;\n",
              "}\n",
              "\n",
              "#sk-container-id-1 div.sk-dashed-wrapped {\n",
              "  border: 1px dashed var(--sklearn-color-line);\n",
              "  margin: 0 0.4em 0.5em 0.4em;\n",
              "  box-sizing: border-box;\n",
              "  padding-bottom: 0.4em;\n",
              "  background-color: var(--sklearn-color-background);\n",
              "}\n",
              "\n",
              "#sk-container-id-1 div.sk-container {\n",
              "  /* jupyter's `normalize.less` sets `[hidden] { display: none; }`\n",
              "     but bootstrap.min.css set `[hidden] { display: none !important; }`\n",
              "     so we also need the `!important` here to be able to override the\n",
              "     default hidden behavior on the sphinx rendered scikit-learn.org.\n",
              "     See: https://github.com/scikit-learn/scikit-learn/issues/21755 */\n",
              "  display: inline-block !important;\n",
              "  position: relative;\n",
              "}\n",
              "\n",
              "#sk-container-id-1 div.sk-text-repr-fallback {\n",
              "  display: none;\n",
              "}\n",
              "\n",
              "div.sk-parallel-item,\n",
              "div.sk-serial,\n",
              "div.sk-item {\n",
              "  /* draw centered vertical line to link estimators */\n",
              "  background-image: linear-gradient(var(--sklearn-color-text-on-default-background), var(--sklearn-color-text-on-default-background));\n",
              "  background-size: 2px 100%;\n",
              "  background-repeat: no-repeat;\n",
              "  background-position: center center;\n",
              "}\n",
              "\n",
              "/* Parallel-specific style estimator block */\n",
              "\n",
              "#sk-container-id-1 div.sk-parallel-item::after {\n",
              "  content: \"\";\n",
              "  width: 100%;\n",
              "  border-bottom: 2px solid var(--sklearn-color-text-on-default-background);\n",
              "  flex-grow: 1;\n",
              "}\n",
              "\n",
              "#sk-container-id-1 div.sk-parallel {\n",
              "  display: flex;\n",
              "  align-items: stretch;\n",
              "  justify-content: center;\n",
              "  background-color: var(--sklearn-color-background);\n",
              "  position: relative;\n",
              "}\n",
              "\n",
              "#sk-container-id-1 div.sk-parallel-item {\n",
              "  display: flex;\n",
              "  flex-direction: column;\n",
              "}\n",
              "\n",
              "#sk-container-id-1 div.sk-parallel-item:first-child::after {\n",
              "  align-self: flex-end;\n",
              "  width: 50%;\n",
              "}\n",
              "\n",
              "#sk-container-id-1 div.sk-parallel-item:last-child::after {\n",
              "  align-self: flex-start;\n",
              "  width: 50%;\n",
              "}\n",
              "\n",
              "#sk-container-id-1 div.sk-parallel-item:only-child::after {\n",
              "  width: 0;\n",
              "}\n",
              "\n",
              "/* Serial-specific style estimator block */\n",
              "\n",
              "#sk-container-id-1 div.sk-serial {\n",
              "  display: flex;\n",
              "  flex-direction: column;\n",
              "  align-items: center;\n",
              "  background-color: var(--sklearn-color-background);\n",
              "  padding-right: 1em;\n",
              "  padding-left: 1em;\n",
              "}\n",
              "\n",
              "\n",
              "/* Toggleable style: style used for estimator/Pipeline/ColumnTransformer box that is\n",
              "clickable and can be expanded/collapsed.\n",
              "- Pipeline and ColumnTransformer use this feature and define the default style\n",
              "- Estimators will overwrite some part of the style using the `sk-estimator` class\n",
              "*/\n",
              "\n",
              "/* Pipeline and ColumnTransformer style (default) */\n",
              "\n",
              "#sk-container-id-1 div.sk-toggleable {\n",
              "  /* Default theme specific background. It is overwritten whether we have a\n",
              "  specific estimator or a Pipeline/ColumnTransformer */\n",
              "  background-color: var(--sklearn-color-background);\n",
              "}\n",
              "\n",
              "/* Toggleable label */\n",
              "#sk-container-id-1 label.sk-toggleable__label {\n",
              "  cursor: pointer;\n",
              "  display: flex;\n",
              "  width: 100%;\n",
              "  margin-bottom: 0;\n",
              "  padding: 0.5em;\n",
              "  box-sizing: border-box;\n",
              "  text-align: center;\n",
              "  align-items: start;\n",
              "  justify-content: space-between;\n",
              "  gap: 0.5em;\n",
              "}\n",
              "\n",
              "#sk-container-id-1 label.sk-toggleable__label .caption {\n",
              "  font-size: 0.6rem;\n",
              "  font-weight: lighter;\n",
              "  color: var(--sklearn-color-text-muted);\n",
              "}\n",
              "\n",
              "#sk-container-id-1 label.sk-toggleable__label-arrow:before {\n",
              "  /* Arrow on the left of the label */\n",
              "  content: \"▸\";\n",
              "  float: left;\n",
              "  margin-right: 0.25em;\n",
              "  color: var(--sklearn-color-icon);\n",
              "}\n",
              "\n",
              "#sk-container-id-1 label.sk-toggleable__label-arrow:hover:before {\n",
              "  color: var(--sklearn-color-text);\n",
              "}\n",
              "\n",
              "/* Toggleable content - dropdown */\n",
              "\n",
              "#sk-container-id-1 div.sk-toggleable__content {\n",
              "  max-height: 0;\n",
              "  max-width: 0;\n",
              "  overflow: hidden;\n",
              "  text-align: left;\n",
              "  /* unfitted */\n",
              "  background-color: var(--sklearn-color-unfitted-level-0);\n",
              "}\n",
              "\n",
              "#sk-container-id-1 div.sk-toggleable__content.fitted {\n",
              "  /* fitted */\n",
              "  background-color: var(--sklearn-color-fitted-level-0);\n",
              "}\n",
              "\n",
              "#sk-container-id-1 div.sk-toggleable__content pre {\n",
              "  margin: 0.2em;\n",
              "  border-radius: 0.25em;\n",
              "  color: var(--sklearn-color-text);\n",
              "  /* unfitted */\n",
              "  background-color: var(--sklearn-color-unfitted-level-0);\n",
              "}\n",
              "\n",
              "#sk-container-id-1 div.sk-toggleable__content.fitted pre {\n",
              "  /* unfitted */\n",
              "  background-color: var(--sklearn-color-fitted-level-0);\n",
              "}\n",
              "\n",
              "#sk-container-id-1 input.sk-toggleable__control:checked~div.sk-toggleable__content {\n",
              "  /* Expand drop-down */\n",
              "  max-height: 200px;\n",
              "  max-width: 100%;\n",
              "  overflow: auto;\n",
              "}\n",
              "\n",
              "#sk-container-id-1 input.sk-toggleable__control:checked~label.sk-toggleable__label-arrow:before {\n",
              "  content: \"▾\";\n",
              "}\n",
              "\n",
              "/* Pipeline/ColumnTransformer-specific style */\n",
              "\n",
              "#sk-container-id-1 div.sk-label input.sk-toggleable__control:checked~label.sk-toggleable__label {\n",
              "  color: var(--sklearn-color-text);\n",
              "  background-color: var(--sklearn-color-unfitted-level-2);\n",
              "}\n",
              "\n",
              "#sk-container-id-1 div.sk-label.fitted input.sk-toggleable__control:checked~label.sk-toggleable__label {\n",
              "  background-color: var(--sklearn-color-fitted-level-2);\n",
              "}\n",
              "\n",
              "/* Estimator-specific style */\n",
              "\n",
              "/* Colorize estimator box */\n",
              "#sk-container-id-1 div.sk-estimator input.sk-toggleable__control:checked~label.sk-toggleable__label {\n",
              "  /* unfitted */\n",
              "  background-color: var(--sklearn-color-unfitted-level-2);\n",
              "}\n",
              "\n",
              "#sk-container-id-1 div.sk-estimator.fitted input.sk-toggleable__control:checked~label.sk-toggleable__label {\n",
              "  /* fitted */\n",
              "  background-color: var(--sklearn-color-fitted-level-2);\n",
              "}\n",
              "\n",
              "#sk-container-id-1 div.sk-label label.sk-toggleable__label,\n",
              "#sk-container-id-1 div.sk-label label {\n",
              "  /* The background is the default theme color */\n",
              "  color: var(--sklearn-color-text-on-default-background);\n",
              "}\n",
              "\n",
              "/* On hover, darken the color of the background */\n",
              "#sk-container-id-1 div.sk-label:hover label.sk-toggleable__label {\n",
              "  color: var(--sklearn-color-text);\n",
              "  background-color: var(--sklearn-color-unfitted-level-2);\n",
              "}\n",
              "\n",
              "/* Label box, darken color on hover, fitted */\n",
              "#sk-container-id-1 div.sk-label.fitted:hover label.sk-toggleable__label.fitted {\n",
              "  color: var(--sklearn-color-text);\n",
              "  background-color: var(--sklearn-color-fitted-level-2);\n",
              "}\n",
              "\n",
              "/* Estimator label */\n",
              "\n",
              "#sk-container-id-1 div.sk-label label {\n",
              "  font-family: monospace;\n",
              "  font-weight: bold;\n",
              "  display: inline-block;\n",
              "  line-height: 1.2em;\n",
              "}\n",
              "\n",
              "#sk-container-id-1 div.sk-label-container {\n",
              "  text-align: center;\n",
              "}\n",
              "\n",
              "/* Estimator-specific */\n",
              "#sk-container-id-1 div.sk-estimator {\n",
              "  font-family: monospace;\n",
              "  border: 1px dotted var(--sklearn-color-border-box);\n",
              "  border-radius: 0.25em;\n",
              "  box-sizing: border-box;\n",
              "  margin-bottom: 0.5em;\n",
              "  /* unfitted */\n",
              "  background-color: var(--sklearn-color-unfitted-level-0);\n",
              "}\n",
              "\n",
              "#sk-container-id-1 div.sk-estimator.fitted {\n",
              "  /* fitted */\n",
              "  background-color: var(--sklearn-color-fitted-level-0);\n",
              "}\n",
              "\n",
              "/* on hover */\n",
              "#sk-container-id-1 div.sk-estimator:hover {\n",
              "  /* unfitted */\n",
              "  background-color: var(--sklearn-color-unfitted-level-2);\n",
              "}\n",
              "\n",
              "#sk-container-id-1 div.sk-estimator.fitted:hover {\n",
              "  /* fitted */\n",
              "  background-color: var(--sklearn-color-fitted-level-2);\n",
              "}\n",
              "\n",
              "/* Specification for estimator info (e.g. \"i\" and \"?\") */\n",
              "\n",
              "/* Common style for \"i\" and \"?\" */\n",
              "\n",
              ".sk-estimator-doc-link,\n",
              "a:link.sk-estimator-doc-link,\n",
              "a:visited.sk-estimator-doc-link {\n",
              "  float: right;\n",
              "  font-size: smaller;\n",
              "  line-height: 1em;\n",
              "  font-family: monospace;\n",
              "  background-color: var(--sklearn-color-background);\n",
              "  border-radius: 1em;\n",
              "  height: 1em;\n",
              "  width: 1em;\n",
              "  text-decoration: none !important;\n",
              "  margin-left: 0.5em;\n",
              "  text-align: center;\n",
              "  /* unfitted */\n",
              "  border: var(--sklearn-color-unfitted-level-1) 1pt solid;\n",
              "  color: var(--sklearn-color-unfitted-level-1);\n",
              "}\n",
              "\n",
              ".sk-estimator-doc-link.fitted,\n",
              "a:link.sk-estimator-doc-link.fitted,\n",
              "a:visited.sk-estimator-doc-link.fitted {\n",
              "  /* fitted */\n",
              "  border: var(--sklearn-color-fitted-level-1) 1pt solid;\n",
              "  color: var(--sklearn-color-fitted-level-1);\n",
              "}\n",
              "\n",
              "/* On hover */\n",
              "div.sk-estimator:hover .sk-estimator-doc-link:hover,\n",
              ".sk-estimator-doc-link:hover,\n",
              "div.sk-label-container:hover .sk-estimator-doc-link:hover,\n",
              ".sk-estimator-doc-link:hover {\n",
              "  /* unfitted */\n",
              "  background-color: var(--sklearn-color-unfitted-level-3);\n",
              "  color: var(--sklearn-color-background);\n",
              "  text-decoration: none;\n",
              "}\n",
              "\n",
              "div.sk-estimator.fitted:hover .sk-estimator-doc-link.fitted:hover,\n",
              ".sk-estimator-doc-link.fitted:hover,\n",
              "div.sk-label-container:hover .sk-estimator-doc-link.fitted:hover,\n",
              ".sk-estimator-doc-link.fitted:hover {\n",
              "  /* fitted */\n",
              "  background-color: var(--sklearn-color-fitted-level-3);\n",
              "  color: var(--sklearn-color-background);\n",
              "  text-decoration: none;\n",
              "}\n",
              "\n",
              "/* Span, style for the box shown on hovering the info icon */\n",
              ".sk-estimator-doc-link span {\n",
              "  display: none;\n",
              "  z-index: 9999;\n",
              "  position: relative;\n",
              "  font-weight: normal;\n",
              "  right: .2ex;\n",
              "  padding: .5ex;\n",
              "  margin: .5ex;\n",
              "  width: min-content;\n",
              "  min-width: 20ex;\n",
              "  max-width: 50ex;\n",
              "  color: var(--sklearn-color-text);\n",
              "  box-shadow: 2pt 2pt 4pt #999;\n",
              "  /* unfitted */\n",
              "  background: var(--sklearn-color-unfitted-level-0);\n",
              "  border: .5pt solid var(--sklearn-color-unfitted-level-3);\n",
              "}\n",
              "\n",
              ".sk-estimator-doc-link.fitted span {\n",
              "  /* fitted */\n",
              "  background: var(--sklearn-color-fitted-level-0);\n",
              "  border: var(--sklearn-color-fitted-level-3);\n",
              "}\n",
              "\n",
              ".sk-estimator-doc-link:hover span {\n",
              "  display: block;\n",
              "}\n",
              "\n",
              "/* \"?\"-specific style due to the `<a>` HTML tag */\n",
              "\n",
              "#sk-container-id-1 a.estimator_doc_link {\n",
              "  float: right;\n",
              "  font-size: 1rem;\n",
              "  line-height: 1em;\n",
              "  font-family: monospace;\n",
              "  background-color: var(--sklearn-color-background);\n",
              "  border-radius: 1rem;\n",
              "  height: 1rem;\n",
              "  width: 1rem;\n",
              "  text-decoration: none;\n",
              "  /* unfitted */\n",
              "  color: var(--sklearn-color-unfitted-level-1);\n",
              "  border: var(--sklearn-color-unfitted-level-1) 1pt solid;\n",
              "}\n",
              "\n",
              "#sk-container-id-1 a.estimator_doc_link.fitted {\n",
              "  /* fitted */\n",
              "  border: var(--sklearn-color-fitted-level-1) 1pt solid;\n",
              "  color: var(--sklearn-color-fitted-level-1);\n",
              "}\n",
              "\n",
              "/* On hover */\n",
              "#sk-container-id-1 a.estimator_doc_link:hover {\n",
              "  /* unfitted */\n",
              "  background-color: var(--sklearn-color-unfitted-level-3);\n",
              "  color: var(--sklearn-color-background);\n",
              "  text-decoration: none;\n",
              "}\n",
              "\n",
              "#sk-container-id-1 a.estimator_doc_link.fitted:hover {\n",
              "  /* fitted */\n",
              "  background-color: var(--sklearn-color-fitted-level-3);\n",
              "}\n",
              "</style><div id=\"sk-container-id-1\" class=\"sk-top-container\"><div class=\"sk-text-repr-fallback\"><pre>IsolationForest(contamination=0.1, random_state=42)</pre><b>In a Jupyter environment, please rerun this cell to show the HTML representation or trust the notebook. <br />On GitHub, the HTML representation is unable to render, please try loading this page with nbviewer.org.</b></div><div class=\"sk-container\" hidden><div class=\"sk-item\"><div class=\"sk-estimator fitted sk-toggleable\"><input class=\"sk-toggleable__control sk-hidden--visually\" id=\"sk-estimator-id-1\" type=\"checkbox\" checked><label for=\"sk-estimator-id-1\" class=\"sk-toggleable__label fitted sk-toggleable__label-arrow\"><div><div>IsolationForest</div></div><div><a class=\"sk-estimator-doc-link fitted\" rel=\"noreferrer\" target=\"_blank\" href=\"https://scikit-learn.org/1.6/modules/generated/sklearn.ensemble.IsolationForest.html\">?<span>Documentation for IsolationForest</span></a><span class=\"sk-estimator-doc-link fitted\">i<span>Fitted</span></span></div></label><div class=\"sk-toggleable__content fitted\"><pre>IsolationForest(contamination=0.1, random_state=42)</pre></div> </div></div></div></div>"
            ]
          },
          "metadata": {},
          "execution_count": 15
        }
      ],
      "source": [
        "# Create and fit the Isolation Forest model\n",
        "isolation_forest = IsolationForest(contamination=0.1, random_state=42)\n",
        "isolation_forest.fit(X_train)"
      ]
    },
    {
      "cell_type": "code",
      "execution_count": null,
      "id": "d8b4acb0",
      "metadata": {
        "execution": {
          "iopub.execute_input": "2023-09-08T13:37:59.519478Z",
          "iopub.status.busy": "2023-09-08T13:37:59.519157Z",
          "iopub.status.idle": "2023-09-08T13:38:02.794735Z",
          "shell.execute_reply": "2023-09-08T13:38:02.793742Z"
        },
        "papermill": {
          "duration": 3.285957,
          "end_time": "2023-09-08T13:38:02.797104",
          "exception": false,
          "start_time": "2023-09-08T13:37:59.511147",
          "status": "completed"
        },
        "tags": [],
        "id": "d8b4acb0"
      },
      "outputs": [],
      "source": [
        "# Predict anomalies using the Isolation Forest\n",
        "y_pred_iforest = isolation_forest.predict(X_test)\n",
        "y_pred_iforest = (y_pred_iforest == -1)  # Convert -1 (anomaly) to 1, 1 (normal) to 0\n"
      ]
    },
    {
      "cell_type": "code",
      "execution_count": null,
      "id": "d1995316",
      "metadata": {
        "execution": {
          "iopub.execute_input": "2023-09-08T13:38:02.811923Z",
          "iopub.status.busy": "2023-09-08T13:38:02.811624Z",
          "iopub.status.idle": "2023-09-08T13:38:07.240105Z",
          "shell.execute_reply": "2023-09-08T13:38:07.239110Z"
        },
        "papermill": {
          "duration": 4.438662,
          "end_time": "2023-09-08T13:38:07.242610",
          "exception": false,
          "start_time": "2023-09-08T13:38:02.803948",
          "status": "completed"
        },
        "tags": [],
        "id": "d1995316"
      },
      "outputs": [],
      "source": [
        "# Create the deep learning model\n",
        "model = keras.Sequential([\n",
        "    layers.Input(shape=(X_train.shape[1],)),\n",
        "    layers.Dense(64, activation='relu'),\n",
        "    layers.Dense(32, activation='relu'),\n",
        "    layers.Dense(1, activation='sigmoid')  # Binary classification, use 'sigmoid' for anomaly detection\n",
        "])"
      ]
    },
    {
      "cell_type": "code",
      "execution_count": null,
      "id": "3186adc4",
      "metadata": {
        "execution": {
          "iopub.execute_input": "2023-09-08T13:38:07.259016Z",
          "iopub.status.busy": "2023-09-08T13:38:07.257508Z",
          "iopub.status.idle": "2023-09-08T13:46:40.243884Z",
          "shell.execute_reply": "2023-09-08T13:46:40.242840Z"
        },
        "papermill": {
          "duration": 512.996767,
          "end_time": "2023-09-08T13:46:40.246447",
          "exception": false,
          "start_time": "2023-09-08T13:38:07.249680",
          "status": "completed"
        },
        "tags": [],
        "colab": {
          "base_uri": "https://localhost:8080/"
        },
        "id": "3186adc4",
        "outputId": "727071bd-43b5-484c-8869-8c6ad7892c9f"
      },
      "outputs": [
        {
          "output_type": "stream",
          "name": "stdout",
          "text": [
            "Epoch 1/5\n",
            "\u001b[1m4418/4418\u001b[0m \u001b[32m━━━━━━━━━━━━━━━━━━━━\u001b[0m\u001b[37m\u001b[0m \u001b[1m11s\u001b[0m 2ms/step - accuracy: 0.9842 - loss: nan - val_accuracy: 0.9904 - val_loss: nan\n",
            "Epoch 2/5\n",
            "\u001b[1m4418/4418\u001b[0m \u001b[32m━━━━━━━━━━━━━━━━━━━━\u001b[0m\u001b[37m\u001b[0m \u001b[1m11s\u001b[0m 2ms/step - accuracy: 0.9899 - loss: nan - val_accuracy: 0.9904 - val_loss: nan\n",
            "Epoch 3/5\n",
            "\u001b[1m4418/4418\u001b[0m \u001b[32m━━━━━━━━━━━━━━━━━━━━\u001b[0m\u001b[37m\u001b[0m \u001b[1m11s\u001b[0m 2ms/step - accuracy: 0.9902 - loss: nan - val_accuracy: 0.9904 - val_loss: nan\n",
            "Epoch 4/5\n",
            "\u001b[1m4418/4418\u001b[0m \u001b[32m━━━━━━━━━━━━━━━━━━━━\u001b[0m\u001b[37m\u001b[0m \u001b[1m19s\u001b[0m 2ms/step - accuracy: 0.9898 - loss: nan - val_accuracy: 0.9904 - val_loss: nan\n",
            "Epoch 5/5\n",
            "\u001b[1m4418/4418\u001b[0m \u001b[32m━━━━━━━━━━━━━━━━━━━━\u001b[0m\u001b[37m\u001b[0m \u001b[1m10s\u001b[0m 2ms/step - accuracy: 0.9902 - loss: nan - val_accuracy: 0.9904 - val_loss: nan\n",
            "\u001b[1m947/947\u001b[0m \u001b[32m━━━━━━━━━━━━━━━━━━━━\u001b[0m\u001b[37m\u001b[0m \u001b[1m1s\u001b[0m 1ms/step\n"
          ]
        }
      ],
      "source": [
        "# Compile the model\n",
        "model.compile(optimizer='adam', loss='binary_crossentropy', metrics=['accuracy'])\n",
        "\n",
        "# Train the model\n",
        "history = model.fit(X_train, y_train, epochs=5, batch_size=32, validation_data=(X_val, y_val))\n",
        "\n",
        "# Evaluate the model on the test set\n",
        "y_pred = model.predict(X_test)\n",
        "y_pred = (y_pred > 0.5)  # Apply threshold (adjust as needed)"
      ]
    },
    {
      "cell_type": "code",
      "execution_count": null,
      "id": "88a684a8",
      "metadata": {
        "execution": {
          "iopub.execute_input": "2023-09-08T13:46:41.554151Z",
          "iopub.status.busy": "2023-09-08T13:46:41.553747Z",
          "iopub.status.idle": "2023-09-08T13:46:41.756903Z",
          "shell.execute_reply": "2023-09-08T13:46:41.755940Z"
        },
        "papermill": {
          "duration": 0.894947,
          "end_time": "2023-09-08T13:46:41.759191",
          "exception": false,
          "start_time": "2023-09-08T13:46:40.864244",
          "status": "completed"
        },
        "tags": [],
        "id": "88a684a8"
      },
      "outputs": [],
      "source": [
        "# Confusion Matrix\n",
        "cm = confusion_matrix(y_test, y_pred)\n",
        "\n",
        "# Classification Report\n",
        "report = classification_report(y_test, y_pred, target_names=['Normal', 'Anomaly'], zero_division=1)\n",
        "\n",
        "# Calculate ROC curve and AUC\n",
        "fpr, tpr, _ = roc_curve(y_test, y_pred)\n",
        "roc_auc = auc(fpr, tpr)\n"
      ]
    },
    {
      "cell_type": "code",
      "execution_count": null,
      "id": "2b73bb00",
      "metadata": {
        "execution": {
          "iopub.execute_input": "2023-09-08T13:46:42.985387Z",
          "iopub.status.busy": "2023-09-08T13:46:42.985002Z",
          "iopub.status.idle": "2023-09-08T13:46:43.360543Z",
          "shell.execute_reply": "2023-09-08T13:46:43.359504Z"
        },
        "papermill": {
          "duration": 0.987456,
          "end_time": "2023-09-08T13:46:43.362703",
          "exception": false,
          "start_time": "2023-09-08T13:46:42.375247",
          "status": "completed"
        },
        "tags": [],
        "colab": {
          "base_uri": "https://localhost:8080/",
          "height": 582
        },
        "id": "2b73bb00",
        "outputId": "703f8aaf-691f-4727-9a75-8f0b97edadb7"
      },
      "outputs": [
        {
          "output_type": "execute_result",
          "data": {
            "text/plain": [
              "<matplotlib.legend.Legend at 0x7cfe7a334b90>"
            ]
          },
          "metadata": {},
          "execution_count": 20
        },
        {
          "output_type": "display_data",
          "data": {
            "text/plain": [
              "<Figure size 800x600 with 1 Axes>"
            ],
            "image/png": "[encoded data removed]"
          },
          "metadata": {}
        }
      ],
      "source": [
        "# Visualize ROC curve\n",
        "plt.figure(figsize=(8, 6))\n",
        "plt.plot(fpr, tpr, color='darkorange', lw=2, label=f'ROC curve (AUC = {roc_auc:.2f})')\n",
        "plt.plot([0, 1], [0, 1], color='navy', lw=2, linestyle='--')\n",
        "plt.xlim([0.0, 1.0])\n",
        "plt.ylim([0.0, 1.05])\n",
        "plt.xlabel('False Positive Rate')\n",
        "plt.ylabel('True Positive Rate')\n",
        "plt.title('Receiver Operating Characteristic')\n",
        "plt.legend(loc='lower right')"
      ]
    },
    {
      "cell_type": "code",
      "execution_count": null,
      "id": "e81229b6",
      "metadata": {
        "execution": {
          "iopub.execute_input": "2023-09-08T13:46:44.618918Z",
          "iopub.status.busy": "2023-09-08T13:46:44.618194Z",
          "iopub.status.idle": "2023-09-08T13:46:44.804235Z",
          "shell.execute_reply": "2023-09-08T13:46:44.803030Z"
        },
        "papermill": {
          "duration": 0.792909,
          "end_time": "2023-09-08T13:46:44.807727",
          "exception": false,
          "start_time": "2023-09-08T13:46:44.014818",
          "status": "completed"
        },
        "tags": [],
        "colab": {
          "base_uri": "https://localhost:8080/",
          "height": 582
        },
        "id": "e81229b6",
        "outputId": "60df376d-8893-4554-f26a-ae4ab6ed1db4"
      },
      "outputs": [
        {
          "output_type": "execute_result",
          "data": {
            "text/plain": [
              "Text(0.5, 1.0, 'Confusion Matrix')"
            ]
          },
          "metadata": {},
          "execution_count": 21
        },
        {
          "output_type": "display_data",
          "data": {
            "text/plain": [
              "<Figure size 600x600 with 1 Axes>"
            ],
            "image/png": "[encoded data removed]"
          },
          "metadata": {}
        }
      ],
      "source": [
        "# Visualize Confusion Matrix\n",
        "plt.figure(figsize=(6, 6))\n",
        "sns.heatmap(cm, annot=True, fmt='d', cmap='Blues', cbar=False,\n",
        "            xticklabels=['Normal', 'Anomaly'], yticklabels=['Normal', 'Anomaly'])\n",
        "plt.xlabel('Predicted')\n",
        "plt.ylabel('Actual')\n",
        "plt.title('Confusion Matrix')\n",
        "\n"
      ]
    },
    {
      "cell_type": "code",
      "execution_count": null,
      "id": "b554234e",
      "metadata": {
        "execution": {
          "iopub.execute_input": "2023-09-08T13:46:46.062142Z",
          "iopub.status.busy": "2023-09-08T13:46:46.061669Z",
          "iopub.status.idle": "2023-09-08T13:46:46.067626Z",
          "shell.execute_reply": "2023-09-08T13:46:46.066182Z"
        },
        "papermill": {
          "duration": 0.62829,
          "end_time": "2023-09-08T13:46:46.070805",
          "exception": false,
          "start_time": "2023-09-08T13:46:45.442515",
          "status": "completed"
        },
        "tags": [],
        "colab": {
          "base_uri": "https://localhost:8080/"
        },
        "id": "b554234e",
        "outputId": "3bab7025-2bf4-4229-8978-b1416a526a72"
      },
      "outputs": [
        {
          "output_type": "stream",
          "name": "stdout",
          "text": [
            "              precision    recall  f1-score   support\n",
            "\n",
            "      Normal       0.99      1.00      0.99     29978\n",
            "     Anomaly       1.00      0.00      0.00       311\n",
            "\n",
            "    accuracy                           0.99     30289\n",
            "   macro avg       0.99      0.50      0.50     30289\n",
            "weighted avg       0.99      0.99      0.98     30289\n",
            "\n"
          ]
        }
      ],
      "source": [
        "# Display Classification Report\n",
        "print(report)"
      ]
    },
    {
      "cell_type": "code",
      "source": [
        "data.head()"
      ],
      "metadata": {
        "id": "iLU4E9vogxSD",
        "colab": {
          "base_uri": "https://localhost:8080/",
          "height": 226
        },
        "outputId": "e04241af-4419-493d-c82c-6f3d09789ae6"
      },
      "id": "iLU4E9vogxSD",
      "execution_count": null,
      "outputs": [
        {
          "output_type": "execute_result",
          "data": {
            "text/plain": [
              "   SourceIP  DestinationIP  SourcePort  DestinationPort  Protocol  BytesSent  \\\n",
              "0  0.496714      -0.138264    0.647689         1.523030 -0.234153  -0.234137   \n",
              "1 -0.463418      -0.465730    0.241962        -1.913280 -1.724918  -0.562288   \n",
              "2  1.465649      -0.225776    0.067528        -1.424748 -0.544383   0.110923   \n",
              "3 -0.601707       1.852278   -0.013497        -1.057711  0.822545  -1.220844   \n",
              "4  0.738467       0.171368   -0.115648        -0.301104 -1.478522  -0.719844   \n",
              "\n",
              "   BytesReceived  PacketsSent  PacketsReceived  Duration  IsAnomaly  \\\n",
              "0       1.579213     0.767435        -0.469474  0.542560        0.0   \n",
              "1      -1.012831     0.314247        -0.908024 -1.412304        0.0   \n",
              "2      -1.150994     0.375698        -0.600639 -0.291694        0.0   \n",
              "3       0.208864    -1.959670        -1.328186  0.196861        0.0   \n",
              "4      -0.460639     1.057122         0.343618 -1.763040        0.0   \n",
              "\n",
              "   TotalBytes  TotalPackets  \n",
              "0    1.345076      0.297960  \n",
              "1   -1.575119     -0.593777  \n",
              "2   -1.040071     -0.224941  \n",
              "3   -1.011980     -3.287856  \n",
              "4   -1.180483      1.400741  "
            ],
            "text/html": [
              "\n",
              "  <div id=\"df-ddda3ec7-09c2-4110-b62b-07f24fee8f2a\" class=\"colab-df-container\">\n",
              "    <div>\n",
              "<style scoped>\n",
              "    .dataframe tbody tr th:only-of-type {\n",
              "        vertical-align: middle;\n",
              "    }\n",
              "\n",
              "    .dataframe tbody tr th {\n",
              "        vertical-align: top;\n",
              "    }\n",
              "\n",
              "    .dataframe thead th {\n",
              "        text-align: right;\n",
              "    }\n",
              "</style>\n",
              "<table border=\"1\" class=\"dataframe\">\n",
              "  <thead>\n",
              "    <tr style=\"text-align: right;\">\n",
              "      <th></th>\n",
              "      <th>SourceIP</th>\n",
              "      <th>DestinationIP</th>\n",
              "      <th>SourcePort</th>\n",
              "      <th>DestinationPort</th>\n",
              "      <th>Protocol</th>\n",
              "      <th>BytesSent</th>\n",
              "      <th>BytesReceived</th>\n",
              "      <th>PacketsSent</th>\n",
              "      <th>PacketsReceived</th>\n",
              "      <th>Duration</th>\n",
              "      <th>IsAnomaly</th>\n",
              "      <th>TotalBytes</th>\n",
              "      <th>TotalPackets</th>\n",
              "    </tr>\n",
              "  </thead>\n",
              "  <tbody>\n",
              "    <tr>\n",
              "      <th>0</th>\n",
              "      <td>0.496714</td>\n",
              "      <td>-0.138264</td>\n",
              "      <td>0.647689</td>\n",
              "      <td>1.523030</td>\n",
              "      <td>-0.234153</td>\n",
              "      <td>-0.234137</td>\n",
              "      <td>1.579213</td>\n",
              "      <td>0.767435</td>\n",
              "      <td>-0.469474</td>\n",
              "      <td>0.542560</td>\n",
              "      <td>0.0</td>\n",
              "      <td>1.345076</td>\n",
              "      <td>0.297960</td>\n",
              "    </tr>\n",
              "    <tr>\n",
              "      <th>1</th>\n",
              "      <td>-0.463418</td>\n",
              "      <td>-0.465730</td>\n",
              "      <td>0.241962</td>\n",
              "      <td>-1.913280</td>\n",
              "      <td>-1.724918</td>\n",
              "      <td>-0.562288</td>\n",
              "      <td>-1.012831</td>\n",
              "      <td>0.314247</td>\n",
              "      <td>-0.908024</td>\n",
              "      <td>-1.412304</td>\n",
              "      <td>0.0</td>\n",
              "      <td>-1.575119</td>\n",
              "      <td>-0.593777</td>\n",
              "    </tr>\n",
              "    <tr>\n",
              "      <th>2</th>\n",
              "      <td>1.465649</td>\n",
              "      <td>-0.225776</td>\n",
              "      <td>0.067528</td>\n",
              "      <td>-1.424748</td>\n",
              "      <td>-0.544383</td>\n",
              "      <td>0.110923</td>\n",
              "      <td>-1.150994</td>\n",
              "      <td>0.375698</td>\n",
              "      <td>-0.600639</td>\n",
              "      <td>-0.291694</td>\n",
              "      <td>0.0</td>\n",
              "      <td>-1.040071</td>\n",
              "      <td>-0.224941</td>\n",
              "    </tr>\n",
              "    <tr>\n",
              "      <th>3</th>\n",
              "      <td>-0.601707</td>\n",
              "      <td>1.852278</td>\n",
              "      <td>-0.013497</td>\n",
              "      <td>-1.057711</td>\n",
              "      <td>0.822545</td>\n",
              "      <td>-1.220844</td>\n",
              "      <td>0.208864</td>\n",
              "      <td>-1.959670</td>\n",
              "      <td>-1.328186</td>\n",
              "      <td>0.196861</td>\n",
              "      <td>0.0</td>\n",
              "      <td>-1.011980</td>\n",
              "      <td>-3.287856</td>\n",
              "    </tr>\n",
              "    <tr>\n",
              "      <th>4</th>\n",
              "      <td>0.738467</td>\n",
              "      <td>0.171368</td>\n",
              "      <td>-0.115648</td>\n",
              "      <td>-0.301104</td>\n",
              "      <td>-1.478522</td>\n",
              "      <td>-0.719844</td>\n",
              "      <td>-0.460639</td>\n",
              "      <td>1.057122</td>\n",
              "      <td>0.343618</td>\n",
              "      <td>-1.763040</td>\n",
              "      <td>0.0</td>\n",
              "      <td>-1.180483</td>\n",
              "      <td>1.400741</td>\n",
              "    </tr>\n",
              "  </tbody>\n",
              "</table>\n",
              "</div>\n",
              "    <div class=\"colab-df-buttons\">\n",
              "\n",
              "  <div class=\"colab-df-container\">\n",
              "    <button class=\"colab-df-convert\" onclick=\"convertToInteractive('df-ddda3ec7-09c2-4110-b62b-07f24fee8f2a')\"\n",
              "            title=\"Convert this dataframe to an interactive table.\"\n",
              "            style=\"display:none;\">\n",
              "\n",
              "  <svg xmlns=\"http://www.w3.org/2000/svg\" height=\"24px\" viewBox=\"0 -960 960 960\">\n",
              "    <path d=\"M120-120v-720h720v720H120Zm60-500h600v-160H180v160Zm220 220h160v-160H400v160Zm0 220h160v-160H400v160ZM180-400h160v-160H180v160Zm440 0h160v-160H620v160ZM180-180h160v-160H180v160Zm440 0h160v-160H620v160Z\"/>\n",
              "  </svg>\n",
              "    </button>\n",
              "\n",
              "  <style>\n",
              "    .colab-df-container {\n",
              "      display:flex;\n",
              "      gap: 12px;\n",
              "    }\n",
              "\n",
              "    .colab-df-convert {\n",
              "      background-color: #E8F0FE;\n",
              "      border: none;\n",
              "      border-radius: 50%;\n",
              "      cursor: pointer;\n",
              "      display: none;\n",
              "      fill: #1967D2;\n",
              "      height: 32px;\n",
              "      padding: 0 0 0 0;\n",
              "      width: 32px;\n",
              "    }\n",
              "\n",
              "    .colab-df-convert:hover {\n",
              "      background-color: #E2EBFA;\n",
              "      box-shadow: 0px 1px 2px rgba(60, 64, 67, 0.3), 0px 1px 3px 1px rgba(60, 64, 67, 0.15);\n",
              "      fill: #174EA6;\n",
              "    }\n",
              "\n",
              "    .colab-df-buttons div {\n",
              "      margin-bottom: 4px;\n",
              "    }\n",
              "\n",
              "    [theme=dark] .colab-df-convert {\n",
              "      background-color: #3B4455;\n",
              "      fill: #D2E3FC;\n",
              "    }\n",
              "\n",
              "    [theme=dark] .colab-df-convert:hover {\n",
              "      background-color: #434B5C;\n",
              "      box-shadow: 0px 1px 3px 1px rgba(0, 0, 0, 0.15);\n",
              "      filter: drop-shadow(0px 1px 2px rgba(0, 0, 0, 0.3));\n",
              "      fill: #FFFFFF;\n",
              "    }\n",
              "  </style>\n",
              "\n",
              "    <script>\n",
              "      const buttonEl =\n",
              "        document.querySelector('#df-ddda3ec7-09c2-4110-b62b-07f24fee8f2a button.colab-df-convert');\n",
              "      buttonEl.style.display =\n",
              "        google.colab.kernel.accessAllowed ? 'block' : 'none';\n",
              "\n",
              "      async function convertToInteractive(key) {\n",
              "        const element = document.querySelector('#df-ddda3ec7-09c2-4110-b62b-07f24fee8f2a');\n",
              "        const dataTable =\n",
              "          await google.colab.kernel.invokeFunction('convertToInteractive',\n",
              "                                                    [key], {});\n",
              "        if (!dataTable) return;\n",
              "\n",
              "        const docLinkHtml = 'Like what you see? Visit the ' +\n",
              "          '<a target=\"_blank\" href=https://colab.research.google.com/notebooks/data_table.ipynb>data table notebook</a>'\n",
              "          + ' to learn more about interactive tables.';\n",
              "        element.innerHTML = '';\n",
              "        dataTable['output_type'] = 'display_data';\n",
              "        await google.colab.output.renderOutput(dataTable, element);\n",
              "        const docLink = document.createElement('div');\n",
              "        docLink.innerHTML = docLinkHtml;\n",
              "        element.appendChild(docLink);\n",
              "      }\n",
              "    </script>\n",
              "  </div>\n",
              "\n",
              "\n",
              "<div id=\"df-36bad8c8-8ee4-47cd-9ec7-10b28ebafbf7\">\n",
              "  <button class=\"colab-df-quickchart\" onclick=\"quickchart('df-36bad8c8-8ee4-47cd-9ec7-10b28ebafbf7')\"\n",
              "            title=\"Suggest charts\"\n",
              "            style=\"display:none;\">\n",
              "\n",
              "<svg xmlns=\"http://www.w3.org/2000/svg\" height=\"24px\"viewBox=\"0 0 24 24\"\n",
              "     width=\"24px\">\n",
              "    <g>\n",
              "        <path d=\"M19 3H5c-1.1 0-2 .9-2 2v14c0 1.1.9 2 2 2h14c1.1 0 2-.9 2-2V5c0-1.1-.9-2-2-2zM9 17H7v-7h2v7zm4 0h-2V7h2v10zm4 0h-2v-4h2v4z\"/>\n",
              "    </g>\n",
              "</svg>\n",
              "  </button>\n",
              "\n",
              "<style>\n",
              "  .colab-df-quickchart {\n",
              "      --bg-color: #E8F0FE;\n",
              "      --fill-color: #1967D2;\n",
              "      --hover-bg-color: #E2EBFA;\n",
              "      --hover-fill-color: #174EA6;\n",
              "      --disabled-fill-color: #AAA;\n",
              "      --disabled-bg-color: #DDD;\n",
              "  }\n",
              "\n",
              "  [theme=dark] .colab-df-quickchart {\n",
              "      --bg-color: #3B4455;\n",
              "      --fill-color: #D2E3FC;\n",
              "      --hover-bg-color: #434B5C;\n",
              "      --hover-fill-color: #FFFFFF;\n",
              "      --disabled-bg-color: #3B4455;\n",
              "      --disabled-fill-color: #666;\n",
              "  }\n",
              "\n",
              "  .colab-df-quickchart {\n",
              "    background-color: var(--bg-color);\n",
              "    border: none;\n",
              "    border-radius: 50%;\n",
              "    cursor: pointer;\n",
              "    display: none;\n",
              "    fill: var(--fill-color);\n",
              "    height: 32px;\n",
              "    padding: 0;\n",
              "    width: 32px;\n",
              "  }\n",
              "\n",
              "  .colab-df-quickchart:hover {\n",
              "    background-color: var(--hover-bg-color);\n",
              "    box-shadow: 0 1px 2px rgba(60, 64, 67, 0.3), 0 1px 3px 1px rgba(60, 64, 67, 0.15);\n",
              "    fill: var(--button-hover-fill-color);\n",
              "  }\n",
              "\n",
              "  .colab-df-quickchart-complete:disabled,\n",
              "  .colab-df-quickchart-complete:disabled:hover {\n",
              "    background-color: var(--disabled-bg-color);\n",
              "    fill: var(--disabled-fill-color);\n",
              "    box-shadow: none;\n",
              "  }\n",
              "\n",
              "  .colab-df-spinner {\n",
              "    border: 2px solid var(--fill-color);\n",
              "    border-color: transparent;\n",
              "    border-bottom-color: var(--fill-color);\n",
              "    animation:\n",
              "      spin 1s steps(1) infinite;\n",
              "  }\n",
              "\n",
              "  @keyframes spin {\n",
              "    0% {\n",
              "      border-color: transparent;\n",
              "      border-bottom-color: var(--fill-color);\n",
              "      border-left-color: var(--fill-color);\n",
              "    }\n",
              "    20% {\n",
              "      border-color: transparent;\n",
              "      border-left-color: var(--fill-color);\n",
              "      border-top-color: var(--fill-color);\n",
              "    }\n",
              "    30% {\n",
              "      border-color: transparent;\n",
              "      border-left-color: var(--fill-color);\n",
              "      border-top-color: var(--fill-color);\n",
              "      border-right-color: var(--fill-color);\n",
              "    }\n",
              "    40% {\n",
              "      border-color: transparent;\n",
              "      border-right-color: var(--fill-color);\n",
              "      border-top-color: var(--fill-color);\n",
              "    }\n",
              "    60% {\n",
              "      border-color: transparent;\n",
              "      border-right-color: var(--fill-color);\n",
              "    }\n",
              "    80% {\n",
              "      border-color: transparent;\n",
              "      border-right-color: var(--fill-color);\n",
              "      border-bottom-color: var(--fill-color);\n",
              "    }\n",
              "    90% {\n",
              "      border-color: transparent;\n",
              "      border-bottom-color: var(--fill-color);\n",
              "    }\n",
              "  }\n",
              "</style>\n",
              "\n",
              "  <script>\n",
              "    async function quickchart(key) {\n",
              "      const quickchartButtonEl =\n",
              "        document.querySelector('#' + key + ' button');\n",
              "      quickchartButtonEl.disabled = true;  // To prevent multiple clicks.\n",
              "      quickchartButtonEl.classList.add('colab-df-spinner');\n",
              "      try {\n",
              "        const charts = await google.colab.kernel.invokeFunction(\n",
              "            'suggestCharts', [key], {});\n",
              "      } catch (error) {\n",
              "        console.error('Error during call to suggestCharts:', error);\n",
              "      }\n",
              "      quickchartButtonEl.classList.remove('colab-df-spinner');\n",
              "      quickchartButtonEl.classList.add('colab-df-quickchart-complete');\n",
              "    }\n",
              "    (() => {\n",
              "      let quickchartButtonEl =\n",
              "        document.querySelector('#df-36bad8c8-8ee4-47cd-9ec7-10b28ebafbf7 button');\n",
              "      quickchartButtonEl.style.display =\n",
              "        google.colab.kernel.accessAllowed ? 'block' : 'none';\n",
              "    })();\n",
              "  </script>\n",
              "</div>\n",
              "\n",
              "    </div>\n",
              "  </div>\n"
            ],
            "application/vnd.google.colaboratory.intrinsic+json": {
              "type": "dataframe",
              "variable_name": "data"
            }
          },
          "metadata": {},
          "execution_count": 23
        }
      ]
    },
    {
      "cell_type": "code",
      "source": [
        "df=pd.read_csv('/content/synthetic_network_traffic.csv')\n",
        "print (df.columns)"
      ],
      "metadata": {
        "colab": {
          "base_uri": "https://localhost:8080/"
        },
        "id": "gE6EWReAk5vO",
        "outputId": "382a5c28-56eb-41c4-f86d-f19c424653e1"
      },
      "id": "gE6EWReAk5vO",
      "execution_count": null,
      "outputs": [
        {
          "output_type": "stream",
          "name": "stdout",
          "text": [
            "Index(['SourceIP', 'DestinationIP', 'SourcePort', 'DestinationPort',\n",
            "       'Protocol', 'BytesSent', 'BytesReceived', 'PacketsSent',\n",
            "       'PacketsReceived', 'Duration', 'IsAnomaly'],\n",
            "      dtype='object')\n"
          ]
        }
      ]
    },
    {
      "cell_type": "code",
      "source": [
        "print(df.shape)"
      ],
      "metadata": {
        "colab": {
          "base_uri": "https://localhost:8080/"
        },
        "id": "y8atv_C1me3L",
        "outputId": "64f36534-d682-4658-b977-7dc0a63170ab"
      },
      "id": "y8atv_C1me3L",
      "execution_count": null,
      "outputs": [
        {
          "output_type": "stream",
          "name": "stdout",
          "text": [
            "(354267, 11)\n"
          ]
        }
      ]
    },
    {
      "cell_type": "code",
      "source": [
        "print(df.head())"
      ],
      "metadata": {
        "colab": {
          "base_uri": "https://localhost:8080/"
        },
        "id": "OJXb8nvmmm24",
        "outputId": "3237e02e-775f-43b8-f9f7-4263293f4acf"
      },
      "id": "OJXb8nvmmm24",
      "execution_count": null,
      "outputs": [
        {
          "output_type": "stream",
          "name": "stdout",
          "text": [
            "   SourceIP  DestinationIP  SourcePort  DestinationPort  Protocol  BytesSent  \\\n",
            "0  0.496714      -0.138264    0.647689         1.523030 -0.234153  -0.234137   \n",
            "1 -0.463418      -0.465730    0.241962        -1.913280 -1.724918  -0.562288   \n",
            "2  1.465649      -0.225776    0.067528        -1.424748 -0.544383   0.110923   \n",
            "3 -0.601707       1.852278   -0.013497        -1.057711  0.822545  -1.220844   \n",
            "4  0.738467       0.171368   -0.115648        -0.301104 -1.478522  -0.719844   \n",
            "\n",
            "   BytesReceived  PacketsSent  PacketsReceived  Duration  IsAnomaly  \n",
            "0       1.579213     0.767435        -0.469474  0.542560        0.0  \n",
            "1      -1.012831     0.314247        -0.908024 -1.412304        0.0  \n",
            "2      -1.150994     0.375698        -0.600639 -0.291694        0.0  \n",
            "3       0.208864    -1.959670        -1.328186  0.196861        0.0  \n",
            "4      -0.460639     1.057122         0.343618 -1.763040        0.0  \n"
          ]
        }
      ]
    },
    {
      "cell_type": "code",
      "source": [
        "print(df.tail())"
      ],
      "metadata": {
        "colab": {
          "base_uri": "https://localhost:8080/"
        },
        "id": "vGir9MhtmubN",
        "outputId": "aee10d83-8500-41df-cd6d-35d6abafd967"
      },
      "id": "vGir9MhtmubN",
      "execution_count": null,
      "outputs": [
        {
          "output_type": "stream",
          "name": "stdout",
          "text": [
            "        SourceIP  DestinationIP  SourcePort  DestinationPort  Protocol  \\\n",
            "354262 -1.568305       0.568646    0.402424        -0.911086  0.188955   \n",
            "354263 -1.260036      -0.183547    0.254754         0.175811  0.179505   \n",
            "354264  1.257165       0.270050    0.912624         0.563804  0.978464   \n",
            "354265 -0.569296      -1.155906   -0.953860        -0.871703  0.413942   \n",
            "354266 -2.036849      -0.168849   -1.169320        -0.399344       NaN   \n",
            "\n",
            "        BytesSent  BytesReceived  PacketsSent  PacketsReceived  Duration  \\\n",
            "354262  -0.481607       0.024762     0.063339         0.205801 -0.980746   \n",
            "354263   0.524016      -0.537526    -1.635478         1.459423 -1.248840   \n",
            "354264  -1.953079       0.290817     0.348136         1.245845  0.518330   \n",
            "354265  -0.082114       2.287019     0.172264        -0.907673 -0.847215   \n",
            "354266        NaN            NaN          NaN              NaN       NaN   \n",
            "\n",
            "        IsAnomaly  \n",
            "354262        0.0  \n",
            "354263        0.0  \n",
            "354264        0.0  \n",
            "354265        0.0  \n",
            "354266        NaN  \n"
          ]
        }
      ]
    },
    {
      "cell_type": "code",
      "source": [
        "print(df.info())"
      ],
      "metadata": {
        "colab": {
          "base_uri": "https://localhost:8080/"
        },
        "id": "OfTu6kzRmzOQ",
        "outputId": "81f1bcba-fa62-4449-f72e-8f5ee3494c19"
      },
      "id": "OfTu6kzRmzOQ",
      "execution_count": null,
      "outputs": [
        {
          "output_type": "stream",
          "name": "stdout",
          "text": [
            "<class 'pandas.core.frame.DataFrame'>\n",
            "RangeIndex: 354267 entries, 0 to 354266\n",
            "Data columns (total 11 columns):\n",
            " #   Column           Non-Null Count   Dtype  \n",
            "---  ------           --------------   -----  \n",
            " 0   SourceIP         354267 non-null  float64\n",
            " 1   DestinationIP    354267 non-null  float64\n",
            " 2   SourcePort       354267 non-null  float64\n",
            " 3   DestinationPort  354267 non-null  float64\n",
            " 4   Protocol         354266 non-null  float64\n",
            " 5   BytesSent        354266 non-null  float64\n",
            " 6   BytesReceived    354266 non-null  float64\n",
            " 7   PacketsSent      354266 non-null  float64\n",
            " 8   PacketsReceived  354266 non-null  float64\n",
            " 9   Duration         354266 non-null  float64\n",
            " 10  IsAnomaly        354266 non-null  float64\n",
            "dtypes: float64(11)\n",
            "memory usage: 29.7 MB\n",
            "None\n"
          ]
        }
      ]
    },
    {
      "cell_type": "code",
      "source": [
        "print(df.describe())"
      ],
      "metadata": {
        "colab": {
          "base_uri": "https://localhost:8080/"
        },
        "id": "RbaHT8wbm6OI",
        "outputId": "e25f3e2e-8ecd-4dcf-fef0-52fb5a4601cc"
      },
      "id": "RbaHT8wbm6OI",
      "execution_count": null,
      "outputs": [
        {
          "output_type": "stream",
          "name": "stdout",
          "text": [
            "            SourceIP  DestinationIP     SourcePort  DestinationPort  \\\n",
            "count  354267.000000  354267.000000  354267.000000    354267.000000   \n",
            "mean        0.000338       0.001393      -0.006021         0.000352   \n",
            "std         0.999725       1.000218       1.000625         1.000913   \n",
            "min        -4.980146      -4.520892      -4.829436        -4.644419   \n",
            "25%        -0.674857      -0.672996      -0.682054        -0.674506   \n",
            "50%         0.001832       0.000628      -0.006965         0.000683   \n",
            "75%         0.673275       0.675126       0.668166         0.674269   \n",
            "max         5.032374       4.984215       4.528914         4.659490   \n",
            "\n",
            "            Protocol      BytesSent  BytesReceived    PacketsSent  \\\n",
            "count  354266.000000  354266.000000  354266.000000  354266.000000   \n",
            "mean        0.001176       0.000423       0.000888      -0.001030   \n",
            "std         1.001209       1.000972       1.000650       0.999103   \n",
            "min        -4.596948      -4.573550      -4.462969      -4.319465   \n",
            "25%        -0.671830      -0.674058      -0.674039      -0.674634   \n",
            "50%         0.002195       0.000593       0.002068      -0.001361   \n",
            "75%         0.674918       0.677528       0.677567       0.673854   \n",
            "max         4.526784       4.357233       5.033805       4.827623   \n",
            "\n",
            "       PacketsReceived       Duration      IsAnomaly  \n",
            "count    354266.000000  354266.000000  354266.000000  \n",
            "mean         -0.000858      -0.000084       0.005033  \n",
            "std           0.997620       1.000972       0.070765  \n",
            "min          -4.484079      -4.625258       0.000000  \n",
            "25%          -0.674361      -0.676299       0.000000  \n",
            "50%          -0.000562       0.000594       0.000000  \n",
            "75%           0.672394       0.675215       0.000000  \n",
            "max           4.610534       4.913122       1.000000  \n"
          ]
        }
      ]
    },
    {
      "cell_type": "code",
      "source": [
        "df.duplicated()"
      ],
      "metadata": {
        "colab": {
          "base_uri": "https://localhost:8080/",
          "height": 458
        },
        "id": "zwrcgQcHm_-D",
        "outputId": "ec416223-52bb-49e1-d678-f7a0f911dc79"
      },
      "id": "zwrcgQcHm_-D",
      "execution_count": null,
      "outputs": [
        {
          "output_type": "execute_result",
          "data": {
            "text/plain": [
              "0         False\n",
              "1         False\n",
              "2         False\n",
              "3         False\n",
              "4         False\n",
              "          ...  \n",
              "354262    False\n",
              "354263    False\n",
              "354264    False\n",
              "354265    False\n",
              "354266    False\n",
              "Length: 354267, dtype: bool"
            ],
            "text/html": [
              "<div>\n",
              "<style scoped>\n",
              "    .dataframe tbody tr th:only-of-type {\n",
              "        vertical-align: middle;\n",
              "    }\n",
              "\n",
              "    .dataframe tbody tr th {\n",
              "        vertical-align: top;\n",
              "    }\n",
              "\n",
              "    .dataframe thead th {\n",
              "        text-align: right;\n",
              "    }\n",
              "</style>\n",
              "<table border=\"1\" class=\"dataframe\">\n",
              "  <thead>\n",
              "    <tr style=\"text-align: right;\">\n",
              "      <th></th>\n",
              "      <th>0</th>\n",
              "    </tr>\n",
              "  </thead>\n",
              "  <tbody>\n",
              "    <tr>\n",
              "      <th>0</th>\n",
              "      <td>False</td>\n",
              "    </tr>\n",
              "    <tr>\n",
              "      <th>1</th>\n",
              "      <td>False</td>\n",
              "    </tr>\n",
              "    <tr>\n",
              "      <th>2</th>\n",
              "      <td>False</td>\n",
              "    </tr>\n",
              "    <tr>\n",
              "      <th>3</th>\n",
              "      <td>False</td>\n",
              "    </tr>\n",
              "    <tr>\n",
              "      <th>4</th>\n",
              "      <td>False</td>\n",
              "    </tr>\n",
              "    <tr>\n",
              "      <th>...</th>\n",
              "      <td>...</td>\n",
              "    </tr>\n",
              "    <tr>\n",
              "      <th>354262</th>\n",
              "      <td>False</td>\n",
              "    </tr>\n",
              "    <tr>\n",
              "      <th>354263</th>\n",
              "      <td>False</td>\n",
              "    </tr>\n",
              "    <tr>\n",
              "      <th>354264</th>\n",
              "      <td>False</td>\n",
              "    </tr>\n",
              "    <tr>\n",
              "      <th>354265</th>\n",
              "      <td>False</td>\n",
              "    </tr>\n",
              "    <tr>\n",
              "      <th>354266</th>\n",
              "      <td>False</td>\n",
              "    </tr>\n",
              "  </tbody>\n",
              "</table>\n",
              "<p>354267 rows × 1 columns</p>\n",
              "</div><br><label><b>dtype:</b> bool</label>"
            ]
          },
          "metadata": {},
          "execution_count": 29
        }
      ]
    },
    {
      "cell_type": "code",
      "source": [
        "duplicate_rows = df[df.duplicated()]\n",
        "print(duplicate_rows)"
      ],
      "metadata": {
        "colab": {
          "base_uri": "https://localhost:8080/"
        },
        "id": "iCjJoEzmnVfY",
        "outputId": "37cd2d46-0eb3-41bd-f5b1-01a6a5548eb3"
      },
      "id": "iCjJoEzmnVfY",
      "execution_count": null,
      "outputs": [
        {
          "output_type": "stream",
          "name": "stdout",
          "text": [
            "Empty DataFrame\n",
            "Columns: [SourceIP, DestinationIP, SourcePort, DestinationPort, Protocol, BytesSent, BytesReceived, PacketsSent, PacketsReceived, Duration, IsAnomaly]\n",
            "Index: []\n"
          ]
        }
      ]
    },
    {
      "cell_type": "code",
      "source": [
        "df.drop_duplicates()"
      ],
      "metadata": {
        "colab": {
          "base_uri": "https://localhost:8080/",
          "height": 443
        },
        "id": "mwymDdrjnfqZ",
        "outputId": "fc77b1c8-6066-4457-9b75-1d31f84aabb3"
      },
      "id": "mwymDdrjnfqZ",
      "execution_count": null,
      "outputs": [
        {
          "output_type": "execute_result",
          "data": {
            "text/plain": [
              "        SourceIP  DestinationIP  SourcePort  DestinationPort  Protocol  \\\n",
              "0       0.496714      -0.138264    0.647689         1.523030 -0.234153   \n",
              "1      -0.463418      -0.465730    0.241962        -1.913280 -1.724918   \n",
              "2       1.465649      -0.225776    0.067528        -1.424748 -0.544383   \n",
              "3      -0.601707       1.852278   -0.013497        -1.057711  0.822545   \n",
              "4       0.738467       0.171368   -0.115648        -0.301104 -1.478522   \n",
              "...          ...            ...         ...              ...       ...   \n",
              "354262 -1.568305       0.568646    0.402424        -0.911086  0.188955   \n",
              "354263 -1.260036      -0.183547    0.254754         0.175811  0.179505   \n",
              "354264  1.257165       0.270050    0.912624         0.563804  0.978464   \n",
              "354265 -0.569296      -1.155906   -0.953860        -0.871703  0.413942   \n",
              "354266 -2.036849      -0.168849   -1.169320        -0.399344       NaN   \n",
              "\n",
              "        BytesSent  BytesReceived  PacketsSent  PacketsReceived  Duration  \\\n",
              "0       -0.234137       1.579213     0.767435        -0.469474  0.542560   \n",
              "1       -0.562288      -1.012831     0.314247        -0.908024 -1.412304   \n",
              "2        0.110923      -1.150994     0.375698        -0.600639 -0.291694   \n",
              "3       -1.220844       0.208864    -1.959670        -1.328186  0.196861   \n",
              "4       -0.719844      -0.460639     1.057122         0.343618 -1.763040   \n",
              "...           ...            ...          ...              ...       ...   \n",
              "354262  -0.481607       0.024762     0.063339         0.205801 -0.980746   \n",
              "354263   0.524016      -0.537526    -1.635478         1.459423 -1.248840   \n",
              "354264  -1.953079       0.290817     0.348136         1.245845  0.518330   \n",
              "354265  -0.082114       2.287019     0.172264        -0.907673 -0.847215   \n",
              "354266        NaN            NaN          NaN              NaN       NaN   \n",
              "\n",
              "        IsAnomaly  \n",
              "0             0.0  \n",
              "1             0.0  \n",
              "2             0.0  \n",
              "3             0.0  \n",
              "4             0.0  \n",
              "...           ...  \n",
              "354262        0.0  \n",
              "354263        0.0  \n",
              "354264        0.0  \n",
              "354265        0.0  \n",
              "354266        NaN  \n",
              "\n",
              "[354267 rows x 11 columns]"
            ],
            "text/html": [
              "\n",
              "  <div id=\"df-3c21bf4c-6ca2-4887-897a-6326c1e60b45\" class=\"colab-df-container\">\n",
              "    <div>\n",
              "<style scoped>\n",
              "    .dataframe tbody tr th:only-of-type {\n",
              "        vertical-align: middle;\n",
              "    }\n",
              "\n",
              "    .dataframe tbody tr th {\n",
              "        vertical-align: top;\n",
              "    }\n",
              "\n",
              "    .dataframe thead th {\n",
              "        text-align: right;\n",
              "    }\n",
              "</style>\n",
              "<table border=\"1\" class=\"dataframe\">\n",
              "  <thead>\n",
              "    <tr style=\"text-align: right;\">\n",
              "      <th></th>\n",
              "      <th>SourceIP</th>\n",
              "      <th>DestinationIP</th>\n",
              "      <th>SourcePort</th>\n",
              "      <th>DestinationPort</th>\n",
              "      <th>Protocol</th>\n",
              "      <th>BytesSent</th>\n",
              "      <th>BytesReceived</th>\n",
              "      <th>PacketsSent</th>\n",
              "      <th>PacketsReceived</th>\n",
              "      <th>Duration</th>\n",
              "      <th>IsAnomaly</th>\n",
              "    </tr>\n",
              "  </thead>\n",
              "  <tbody>\n",
              "    <tr>\n",
              "      <th>0</th>\n",
              "      <td>0.496714</td>\n",
              "      <td>-0.138264</td>\n",
              "      <td>0.647689</td>\n",
              "      <td>1.523030</td>\n",
              "      <td>-0.234153</td>\n",
              "      <td>-0.234137</td>\n",
              "      <td>1.579213</td>\n",
              "      <td>0.767435</td>\n",
              "      <td>-0.469474</td>\n",
              "      <td>0.542560</td>\n",
              "      <td>0.0</td>\n",
              "    </tr>\n",
              "    <tr>\n",
              "      <th>1</th>\n",
              "      <td>-0.463418</td>\n",
              "      <td>-0.465730</td>\n",
              "      <td>0.241962</td>\n",
              "      <td>-1.913280</td>\n",
              "      <td>-1.724918</td>\n",
              "      <td>-0.562288</td>\n",
              "      <td>-1.012831</td>\n",
              "      <td>0.314247</td>\n",
              "      <td>-0.908024</td>\n",
              "      <td>-1.412304</td>\n",
              "      <td>0.0</td>\n",
              "    </tr>\n",
              "    <tr>\n",
              "      <th>2</th>\n",
              "      <td>1.465649</td>\n",
              "      <td>-0.225776</td>\n",
              "      <td>0.067528</td>\n",
              "      <td>-1.424748</td>\n",
              "      <td>-0.544383</td>\n",
              "      <td>0.110923</td>\n",
              "      <td>-1.150994</td>\n",
              "      <td>0.375698</td>\n",
              "      <td>-0.600639</td>\n",
              "      <td>-0.291694</td>\n",
              "      <td>0.0</td>\n",
              "    </tr>\n",
              "    <tr>\n",
              "      <th>3</th>\n",
              "      <td>-0.601707</td>\n",
              "      <td>1.852278</td>\n",
              "      <td>-0.013497</td>\n",
              "      <td>-1.057711</td>\n",
              "      <td>0.822545</td>\n",
              "      <td>-1.220844</td>\n",
              "      <td>0.208864</td>\n",
              "      <td>-1.959670</td>\n",
              "      <td>-1.328186</td>\n",
              "      <td>0.196861</td>\n",
              "      <td>0.0</td>\n",
              "    </tr>\n",
              "    <tr>\n",
              "      <th>4</th>\n",
              "      <td>0.738467</td>\n",
              "      <td>0.171368</td>\n",
              "      <td>-0.115648</td>\n",
              "      <td>-0.301104</td>\n",
              "      <td>-1.478522</td>\n",
              "      <td>-0.719844</td>\n",
              "      <td>-0.460639</td>\n",
              "      <td>1.057122</td>\n",
              "      <td>0.343618</td>\n",
              "      <td>-1.763040</td>\n",
              "      <td>0.0</td>\n",
              "    </tr>\n",
              "    <tr>\n",
              "      <th>...</th>\n",
              "      <td>...</td>\n",
              "      <td>...</td>\n",
              "      <td>...</td>\n",
              "      <td>...</td>\n",
              "      <td>...</td>\n",
              "      <td>...</td>\n",
              "      <td>...</td>\n",
              "      <td>...</td>\n",
              "      <td>...</td>\n",
              "      <td>...</td>\n",
              "      <td>...</td>\n",
              "    </tr>\n",
              "    <tr>\n",
              "      <th>354262</th>\n",
              "      <td>-1.568305</td>\n",
              "      <td>0.568646</td>\n",
              "      <td>0.402424</td>\n",
              "      <td>-0.911086</td>\n",
              "      <td>0.188955</td>\n",
              "      <td>-0.481607</td>\n",
              "      <td>0.024762</td>\n",
              "      <td>0.063339</td>\n",
              "      <td>0.205801</td>\n",
              "      <td>-0.980746</td>\n",
              "      <td>0.0</td>\n",
              "    </tr>\n",
              "    <tr>\n",
              "      <th>354263</th>\n",
              "      <td>-1.260036</td>\n",
              "      <td>-0.183547</td>\n",
              "      <td>0.254754</td>\n",
              "      <td>0.175811</td>\n",
              "      <td>0.179505</td>\n",
              "      <td>0.524016</td>\n",
              "      <td>-0.537526</td>\n",
              "      <td>-1.635478</td>\n",
              "      <td>1.459423</td>\n",
              "      <td>-1.248840</td>\n",
              "      <td>0.0</td>\n",
              "    </tr>\n",
              "    <tr>\n",
              "      <th>354264</th>\n",
              "      <td>1.257165</td>\n",
              "      <td>0.270050</td>\n",
              "      <td>0.912624</td>\n",
              "      <td>0.563804</td>\n",
              "      <td>0.978464</td>\n",
              "      <td>-1.953079</td>\n",
              "      <td>0.290817</td>\n",
              "      <td>0.348136</td>\n",
              "      <td>1.245845</td>\n",
              "      <td>0.518330</td>\n",
              "      <td>0.0</td>\n",
              "    </tr>\n",
              "    <tr>\n",
              "      <th>354265</th>\n",
              "      <td>-0.569296</td>\n",
              "      <td>-1.155906</td>\n",
              "      <td>-0.953860</td>\n",
              "      <td>-0.871703</td>\n",
              "      <td>0.413942</td>\n",
              "      <td>-0.082114</td>\n",
              "      <td>2.287019</td>\n",
              "      <td>0.172264</td>\n",
              "      <td>-0.907673</td>\n",
              "      <td>-0.847215</td>\n",
              "      <td>0.0</td>\n",
              "    </tr>\n",
              "    <tr>\n",
              "      <th>354266</th>\n",
              "      <td>-2.036849</td>\n",
              "      <td>-0.168849</td>\n",
              "      <td>-1.169320</td>\n",
              "      <td>-0.399344</td>\n",
              "      <td>NaN</td>\n",
              "      <td>NaN</td>\n",
              "      <td>NaN</td>\n",
              "      <td>NaN</td>\n",
              "      <td>NaN</td>\n",
              "      <td>NaN</td>\n",
              "      <td>NaN</td>\n",
              "    </tr>\n",
              "  </tbody>\n",
              "</table>\n",
              "<p>354267 rows × 11 columns</p>\n",
              "</div>\n",
              "    <div class=\"colab-df-buttons\">\n",
              "\n",
              "  <div class=\"colab-df-container\">\n",
              "    <button class=\"colab-df-convert\" onclick=\"convertToInteractive('df-3c21bf4c-6ca2-4887-897a-6326c1e60b45')\"\n",
              "            title=\"Convert this dataframe to an interactive table.\"\n",
              "            style=\"display:none;\">\n",
              "\n",
              "  <svg xmlns=\"http://www.w3.org/2000/svg\" height=\"24px\" viewBox=\"0 -960 960 960\">\n",
              "    <path d=\"M120-120v-720h720v720H120Zm60-500h600v-160H180v160Zm220 220h160v-160H400v160Zm0 220h160v-160H400v160ZM180-400h160v-160H180v160Zm440 0h160v-160H620v160ZM180-180h160v-160H180v160Zm440 0h160v-160H620v160Z\"/>\n",
              "  </svg>\n",
              "    </button>\n",
              "\n",
              "  <style>\n",
              "    .colab-df-container {\n",
              "      display:flex;\n",
              "      gap: 12px;\n",
              "    }\n",
              "\n",
              "    .colab-df-convert {\n",
              "      background-color: #E8F0FE;\n",
              "      border: none;\n",
              "      border-radius: 50%;\n",
              "      cursor: pointer;\n",
              "      display: none;\n",
              "      fill: #1967D2;\n",
              "      height: 32px;\n",
              "      padding: 0 0 0 0;\n",
              "      width: 32px;\n",
              "    }\n",
              "\n",
              "    .colab-df-convert:hover {\n",
              "      background-color: #E2EBFA;\n",
              "      box-shadow: 0px 1px 2px rgba(60, 64, 67, 0.3), 0px 1px 3px 1px rgba(60, 64, 67, 0.15);\n",
              "      fill: #174EA6;\n",
              "    }\n",
              "\n",
              "    .colab-df-buttons div {\n",
              "      margin-bottom: 4px;\n",
              "    }\n",
              "\n",
              "    [theme=dark] .colab-df-convert {\n",
              "      background-color: #3B4455;\n",
              "      fill: #D2E3FC;\n",
              "    }\n",
              "\n",
              "    [theme=dark] .colab-df-convert:hover {\n",
              "      background-color: #434B5C;\n",
              "      box-shadow: 0px 1px 3px 1px rgba(0, 0, 0, 0.15);\n",
              "      filter: drop-shadow(0px 1px 2px rgba(0, 0, 0, 0.3));\n",
              "      fill: #FFFFFF;\n",
              "    }\n",
              "  </style>\n",
              "\n",
              "    <script>\n",
              "      const buttonEl =\n",
              "        document.querySelector('#df-3c21bf4c-6ca2-4887-897a-6326c1e60b45 button.colab-df-convert');\n",
              "      buttonEl.style.display =\n",
              "        google.colab.kernel.accessAllowed ? 'block' : 'none';\n",
              "\n",
              "      async function convertToInteractive(key) {\n",
              "        const element = document.querySelector('#df-3c21bf4c-6ca2-4887-897a-6326c1e60b45');\n",
              "        const dataTable =\n",
              "          await google.colab.kernel.invokeFunction('convertToInteractive',\n",
              "                                                    [key], {});\n",
              "        if (!dataTable) return;\n",
              "\n",
              "        const docLinkHtml = 'Like what you see? Visit the ' +\n",
              "          '<a target=\"_blank\" href=https://colab.research.google.com/notebooks/data_table.ipynb>data table notebook</a>'\n",
              "          + ' to learn more about interactive tables.';\n",
              "        element.innerHTML = '';\n",
              "        dataTable['output_type'] = 'display_data';\n",
              "        await google.colab.output.renderOutput(dataTable, element);\n",
              "        const docLink = document.createElement('div');\n",
              "        docLink.innerHTML = docLinkHtml;\n",
              "        element.appendChild(docLink);\n",
              "      }\n",
              "    </script>\n",
              "  </div>\n",
              "\n",
              "\n",
              "<div id=\"df-505b9760-5b6e-4fd4-a88a-e8309b173c36\">\n",
              "  <button class=\"colab-df-quickchart\" onclick=\"quickchart('df-505b9760-5b6e-4fd4-a88a-e8309b173c36')\"\n",
              "            title=\"Suggest charts\"\n",
              "            style=\"display:none;\">\n",
              "\n",
              "<svg xmlns=\"http://www.w3.org/2000/svg\" height=\"24px\"viewBox=\"0 0 24 24\"\n",
              "     width=\"24px\">\n",
              "    <g>\n",
              "        <path d=\"M19 3H5c-1.1 0-2 .9-2 2v14c0 1.1.9 2 2 2h14c1.1 0 2-.9 2-2V5c0-1.1-.9-2-2-2zM9 17H7v-7h2v7zm4 0h-2V7h2v10zm4 0h-2v-4h2v4z\"/>\n",
              "    </g>\n",
              "</svg>\n",
              "  </button>\n",
              "\n",
              "<style>\n",
              "  .colab-df-quickchart {\n",
              "      --bg-color: #E8F0FE;\n",
              "      --fill-color: #1967D2;\n",
              "      --hover-bg-color: #E2EBFA;\n",
              "      --hover-fill-color: #174EA6;\n",
              "      --disabled-fill-color: #AAA;\n",
              "      --disabled-bg-color: #DDD;\n",
              "  }\n",
              "\n",
              "  [theme=dark] .colab-df-quickchart {\n",
              "      --bg-color: #3B4455;\n",
              "      --fill-color: #D2E3FC;\n",
              "      --hover-bg-color: #434B5C;\n",
              "      --hover-fill-color: #FFFFFF;\n",
              "      --disabled-bg-color: #3B4455;\n",
              "      --disabled-fill-color: #666;\n",
              "  }\n",
              "\n",
              "  .colab-df-quickchart {\n",
              "    background-color: var(--bg-color);\n",
              "    border: none;\n",
              "    border-radius: 50%;\n",
              "    cursor: pointer;\n",
              "    display: none;\n",
              "    fill: var(--fill-color);\n",
              "    height: 32px;\n",
              "    padding: 0;\n",
              "    width: 32px;\n",
              "  }\n",
              "\n",
              "  .colab-df-quickchart:hover {\n",
              "    background-color: var(--hover-bg-color);\n",
              "    box-shadow: 0 1px 2px rgba(60, 64, 67, 0.3), 0 1px 3px 1px rgba(60, 64, 67, 0.15);\n",
              "    fill: var(--button-hover-fill-color);\n",
              "  }\n",
              "\n",
              "  .colab-df-quickchart-complete:disabled,\n",
              "  .colab-df-quickchart-complete:disabled:hover {\n",
              "    background-color: var(--disabled-bg-color);\n",
              "    fill: var(--disabled-fill-color);\n",
              "    box-shadow: none;\n",
              "  }\n",
              "\n",
              "  .colab-df-spinner {\n",
              "    border: 2px solid var(--fill-color);\n",
              "    border-color: transparent;\n",
              "    border-bottom-color: var(--fill-color);\n",
              "    animation:\n",
              "      spin 1s steps(1) infinite;\n",
              "  }\n",
              "\n",
              "  @keyframes spin {\n",
              "    0% {\n",
              "      border-color: transparent;\n",
              "      border-bottom-color: var(--fill-color);\n",
              "      border-left-color: var(--fill-color);\n",
              "    }\n",
              "    20% {\n",
              "      border-color: transparent;\n",
              "      border-left-color: var(--fill-color);\n",
              "      border-top-color: var(--fill-color);\n",
              "    }\n",
              "    30% {\n",
              "      border-color: transparent;\n",
              "      border-left-color: var(--fill-color);\n",
              "      border-top-color: var(--fill-color);\n",
              "      border-right-color: var(--fill-color);\n",
              "    }\n",
              "    40% {\n",
              "      border-color: transparent;\n",
              "      border-right-color: var(--fill-color);\n",
              "      border-top-color: var(--fill-color);\n",
              "    }\n",
              "    60% {\n",
              "      border-color: transparent;\n",
              "      border-right-color: var(--fill-color);\n",
              "    }\n",
              "    80% {\n",
              "      border-color: transparent;\n",
              "      border-right-color: var(--fill-color);\n",
              "      border-bottom-color: var(--fill-color);\n",
              "    }\n",
              "    90% {\n",
              "      border-color: transparent;\n",
              "      border-bottom-color: var(--fill-color);\n",
              "    }\n",
              "  }\n",
              "</style>\n",
              "\n",
              "  <script>\n",
              "    async function quickchart(key) {\n",
              "      const quickchartButtonEl =\n",
              "        document.querySelector('#' + key + ' button');\n",
              "      quickchartButtonEl.disabled = true;  // To prevent multiple clicks.\n",
              "      quickchartButtonEl.classList.add('colab-df-spinner');\n",
              "      try {\n",
              "        const charts = await google.colab.kernel.invokeFunction(\n",
              "            'suggestCharts', [key], {});\n",
              "      } catch (error) {\n",
              "        console.error('Error during call to suggestCharts:', error);\n",
              "      }\n",
              "      quickchartButtonEl.classList.remove('colab-df-spinner');\n",
              "      quickchartButtonEl.classList.add('colab-df-quickchart-complete');\n",
              "    }\n",
              "    (() => {\n",
              "      let quickchartButtonEl =\n",
              "        document.querySelector('#df-505b9760-5b6e-4fd4-a88a-e8309b173c36 button');\n",
              "      quickchartButtonEl.style.display =\n",
              "        google.colab.kernel.accessAllowed ? 'block' : 'none';\n",
              "    })();\n",
              "  </script>\n",
              "</div>\n",
              "\n",
              "    </div>\n",
              "  </div>\n"
            ],
            "application/vnd.google.colaboratory.intrinsic+json": {
              "type": "dataframe"
            }
          },
          "metadata": {},
          "execution_count": 32
        }
      ]
    },
    {
      "cell_type": "code",
      "source": [
        "duplicate_columns= df[df.duplicated()]\n",
        "print(duplicate_columns)"
      ],
      "metadata": {
        "colab": {
          "base_uri": "https://localhost:8080/"
        },
        "id": "bhE8qpyIs9hp",
        "outputId": "7b5e65f7-eaff-401e-95a3-d6839e7e5970"
      },
      "id": "bhE8qpyIs9hp",
      "execution_count": null,
      "outputs": [
        {
          "output_type": "stream",
          "name": "stdout",
          "text": [
            "Empty DataFrame\n",
            "Columns: [SourceIP, DestinationIP, SourcePort, DestinationPort, Protocol, BytesSent, BytesReceived, PacketsSent, PacketsReceived, Duration, IsAnomaly]\n",
            "Index: []\n"
          ]
        }
      ]
    },
    {
      "cell_type": "code",
      "source": [
        "data.isna().sum()"
      ],
      "metadata": {
        "colab": {
          "base_uri": "https://localhost:8080/",
          "height": 491
        },
        "id": "j7FnSjIztLZS",
        "outputId": "cf35bfe9-5386-4ee2-8559-40ce35568830"
      },
      "id": "j7FnSjIztLZS",
      "execution_count": null,
      "outputs": [
        {
          "output_type": "execute_result",
          "data": {
            "text/plain": [
              "SourceIP           0\n",
              "DestinationIP      0\n",
              "SourcePort         0\n",
              "DestinationPort    0\n",
              "Protocol           0\n",
              "BytesSent          0\n",
              "BytesReceived      0\n",
              "PacketsSent        1\n",
              "PacketsReceived    1\n",
              "Duration           1\n",
              "IsAnomaly          1\n",
              "TotalBytes         0\n",
              "TotalPackets       1\n",
              "dtype: int64"
            ],
            "text/html": [
              "<div>\n",
              "<style scoped>\n",
              "    .dataframe tbody tr th:only-of-type {\n",
              "        vertical-align: middle;\n",
              "    }\n",
              "\n",
              "    .dataframe tbody tr th {\n",
              "        vertical-align: top;\n",
              "    }\n",
              "\n",
              "    .dataframe thead th {\n",
              "        text-align: right;\n",
              "    }\n",
              "</style>\n",
              "<table border=\"1\" class=\"dataframe\">\n",
              "  <thead>\n",
              "    <tr style=\"text-align: right;\">\n",
              "      <th></th>\n",
              "      <th>0</th>\n",
              "    </tr>\n",
              "  </thead>\n",
              "  <tbody>\n",
              "    <tr>\n",
              "      <th>SourceIP</th>\n",
              "      <td>0</td>\n",
              "    </tr>\n",
              "    <tr>\n",
              "      <th>DestinationIP</th>\n",
              "      <td>0</td>\n",
              "    </tr>\n",
              "    <tr>\n",
              "      <th>SourcePort</th>\n",
              "      <td>0</td>\n",
              "    </tr>\n",
              "    <tr>\n",
              "      <th>DestinationPort</th>\n",
              "      <td>0</td>\n",
              "    </tr>\n",
              "    <tr>\n",
              "      <th>Protocol</th>\n",
              "      <td>0</td>\n",
              "    </tr>\n",
              "    <tr>\n",
              "      <th>BytesSent</th>\n",
              "      <td>0</td>\n",
              "    </tr>\n",
              "    <tr>\n",
              "      <th>BytesReceived</th>\n",
              "      <td>0</td>\n",
              "    </tr>\n",
              "    <tr>\n",
              "      <th>PacketsSent</th>\n",
              "      <td>1</td>\n",
              "    </tr>\n",
              "    <tr>\n",
              "      <th>PacketsReceived</th>\n",
              "      <td>1</td>\n",
              "    </tr>\n",
              "    <tr>\n",
              "      <th>Duration</th>\n",
              "      <td>1</td>\n",
              "    </tr>\n",
              "    <tr>\n",
              "      <th>IsAnomaly</th>\n",
              "      <td>1</td>\n",
              "    </tr>\n",
              "    <tr>\n",
              "      <th>TotalBytes</th>\n",
              "      <td>0</td>\n",
              "    </tr>\n",
              "    <tr>\n",
              "      <th>TotalPackets</th>\n",
              "      <td>1</td>\n",
              "    </tr>\n",
              "  </tbody>\n",
              "</table>\n",
              "</div><br><label><b>dtype:</b> int64</label>"
            ]
          },
          "metadata": {},
          "execution_count": 33
        }
      ]
    },
    {
      "cell_type": "code",
      "source": [
        "df = pd.DataFrame(data)"
      ],
      "metadata": {
        "id": "K2iQIombuyxX"
      },
      "id": "K2iQIombuyxX",
      "execution_count": null,
      "outputs": []
    },
    {
      "cell_type": "code",
      "source": [
        "def remove_outliers_iqr(df, column):\n",
        "    Q1 = df[column].quantile(0.25)  # First quartile\n",
        "    Q3 = df[column].quantile(0.75)  # Third quartile\n",
        "    IQR = Q3 - Q1  # Interquartile range\n",
        "    lower_bound = Q1 - 1.5 * IQR\n",
        "    upper_bound = Q3 + 1.5 * IQR\n",
        "    return df[(df[column] >= lower_bound) & (df[column] <= upper_bound)]\n"
      ],
      "metadata": {
        "id": "aQJCWY4qvSiV"
      },
      "id": "aQJCWY4qvSiV",
      "execution_count": null,
      "outputs": []
    },
    {
      "cell_type": "code",
      "source": [
        "print(\"DataFrame after removing outliers using IQR:\")\n",
        "print(df)"
      ],
      "metadata": {
        "colab": {
          "base_uri": "https://localhost:8080/"
        },
        "id": "S16aLR1AvdMH",
        "outputId": "b5c2102c-594a-465f-9501-617699a58d63"
      },
      "id": "S16aLR1AvdMH",
      "execution_count": null,
      "outputs": [
        {
          "output_type": "stream",
          "name": "stdout",
          "text": [
            "DataFrame after removing outliers using IQR:\n",
            "        SourceIP  DestinationIP  SourcePort  DestinationPort  Protocol  \\\n",
            "0       0.496714      -0.138264    0.647689         1.523030 -0.234153   \n",
            "1      -0.463418      -0.465730    0.241962        -1.913280 -1.724918   \n",
            "2       1.465649      -0.225776    0.067528        -1.424748 -0.544383   \n",
            "3      -0.601707       1.852278   -0.013497        -1.057711  0.822545   \n",
            "4       0.738467       0.171368   -0.115648        -0.301104 -1.478522   \n",
            "...          ...            ...         ...              ...       ...   \n",
            "200921 -0.359081       0.403997   -0.763979        -0.078592 -0.577414   \n",
            "200922 -1.261247      -1.374903    1.373136        -1.416191 -0.411088   \n",
            "200923 -1.592335       0.203070    0.227498        -0.559522  0.558366   \n",
            "200924 -0.642915      -1.208405   -2.211946        -1.579491 -0.866288   \n",
            "200925  2.115778       1.308781    1.268466        -0.685449 -0.376572   \n",
            "\n",
            "        BytesSent  BytesReceived  PacketsSent  PacketsReceived  Duration  \\\n",
            "0       -0.234137       1.579213     0.767435        -0.469474  0.542560   \n",
            "1       -0.562288      -1.012831     0.314247        -0.908024 -1.412304   \n",
            "2        0.110923      -1.150994     0.375698        -0.600639 -0.291694   \n",
            "3       -1.220844       0.208864    -1.959670        -1.328186  0.196861   \n",
            "4       -0.719844      -0.460639     1.057122         0.343618 -1.763040   \n",
            "...           ...            ...          ...              ...       ...   \n",
            "200921  -0.282696      -2.698643     1.866880         1.309467  0.984378   \n",
            "200922  -0.620898       1.773820    -1.442565         0.217077 -0.650161   \n",
            "200923  -0.546726      -0.031811     0.432005        -0.350609  0.758685   \n",
            "200924  -1.764625       0.109650     0.430555         0.900167  0.582196   \n",
            "200925  -1.180934       1.171362          NaN              NaN       NaN   \n",
            "\n",
            "        IsAnomaly  TotalBytes  TotalPackets  \n",
            "0             0.0    1.345076      0.297960  \n",
            "1             0.0   -1.575119     -0.593777  \n",
            "2             0.0   -1.040071     -0.224941  \n",
            "3             0.0   -1.011980     -3.287856  \n",
            "4             0.0   -1.180483      1.400741  \n",
            "...           ...         ...           ...  \n",
            "200921        0.0   -2.981339      3.176347  \n",
            "200922        0.0    1.152922     -1.225488  \n",
            "200923        0.0   -0.578537      0.081396  \n",
            "200924        0.0   -1.654975      1.330722  \n",
            "200925        NaN   -0.009572           NaN  \n",
            "\n",
            "[200926 rows x 13 columns]\n"
          ]
        }
      ]
    },
    {
      "cell_type": "code",
      "source": [
        "numerical_columns = data.select_dtypes(include=['float64', 'int64']).columns\n",
        "scaler = StandardScaler()\n",
        "data[numerical_columns] = scaler.fit_transform(data[numerical_columns])"
      ],
      "metadata": {
        "id": "teVNhIHa_P4f"
      },
      "id": "teVNhIHa_P4f",
      "execution_count": null,
      "outputs": []
    },
    {
      "cell_type": "code",
      "source": [
        "print(data)"
      ],
      "metadata": {
        "colab": {
          "base_uri": "https://localhost:8080/"
        },
        "id": "jyShzPJa_RCD",
        "outputId": "c17401db-db92-4324-dd7b-a812ed718a3a"
      },
      "id": "jyShzPJa_RCD",
      "execution_count": null,
      "outputs": [
        {
          "output_type": "stream",
          "name": "stdout",
          "text": [
            "        SourceIP  DestinationIP  SourcePort  DestinationPort  Protocol  \\\n",
            "0       0.495589      -0.139180    0.654750         1.523117 -0.233791   \n",
            "1      -0.465147      -0.466149    0.249448        -1.906194 -1.726176   \n",
            "2       1.465134      -0.226559    0.075197        -1.418657 -0.544357   \n",
            "3      -0.603522       1.848351   -0.005743        -1.052367  0.824057   \n",
            "4       0.737494       0.169984   -0.107787        -0.297301 -1.479512   \n",
            "...          ...            ...         ...              ...       ...   \n",
            "200921 -0.360744       0.402261   -0.755439        -0.075243 -0.577424   \n",
            "200922 -1.263478      -1.373947    1.379437        -1.410117 -0.410917   \n",
            "200923 -1.594774       0.201638    0.234999        -0.555193  0.559590   \n",
            "200924 -0.644757      -1.207701   -2.201888        -1.573085 -0.866612   \n",
            "200925  2.115672       1.305676    1.274877        -0.680864 -0.376364   \n",
            "\n",
            "        BytesSent  BytesReceived  PacketsSent  PacketsReceived  Duration  \\\n",
            "0       -0.233449       1.576669     0.769037        -0.468123  0.540858   \n",
            "1       -0.560826      -1.014063     0.315751        -0.906617 -1.410429   \n",
            "2        0.110797      -1.152156     0.377215        -0.599271 -0.291869   \n",
            "3       -1.217830       0.207013    -1.958661        -1.326725  0.195792   \n",
            "4       -0.718011      -0.462150     1.058787         0.344866 -1.760524   \n",
            "...           ...            ...          ...              ...       ...   \n",
            "200921  -0.281894      -2.699022     1.868721         1.310591  0.981868   \n",
            "200922  -0.619298       1.771178    -1.441443         0.218340 -0.649681   \n",
            "200923  -0.545302      -0.033539     0.433534        -0.349273  0.756588   \n",
            "200924  -1.760329       0.107850     0.432084         0.901343  0.580421   \n",
            "200925  -1.178014       1.169025          NaN              NaN       NaN   \n",
            "\n",
            "        IsAnomaly  TotalBytes  TotalPackets  \n",
            "0       -0.070724    0.949584      0.212865  \n",
            "1       -0.070724   -1.114457     -0.418422  \n",
            "2       -0.070724   -0.736277     -0.157312  \n",
            "3       -0.070724   -0.716422     -2.325639  \n",
            "4       -0.070724   -0.835522      0.993555  \n",
            "...           ...         ...           ...  \n",
            "200921  -0.070724   -2.108397      2.250559  \n",
            "200922  -0.070724    0.813767     -0.865629  \n",
            "200923  -0.070724   -0.410057      0.059552  \n",
            "200924  -0.070724   -1.170901      0.943987  \n",
            "200925        NaN   -0.007903           NaN  \n",
            "\n",
            "[200926 rows x 13 columns]\n"
          ]
        }
      ]
    },
    {
      "cell_type": "code",
      "source": [
        "num_df = data.select_dtypes(include=\"number\")\n",
        "cat_df = data.select_dtypes(include=\"object_\")\n",
        "final_df = pd.concat([num_df, cat_df], axis=1)"
      ],
      "metadata": {
        "id": "C2pqkVHoA3Zu"
      },
      "id": "C2pqkVHoA3Zu",
      "execution_count": null,
      "outputs": []
    },
    {
      "cell_type": "code",
      "source": [
        "num_cols = num_df.columns.tolist()\n",
        "print(num_cols)\n",
        "for col in num_cols:\n",
        "  plt.hist(num_df[col])\n",
        "  plt.xlabel(col)\n",
        "  plt.ylabel(\"count\")\n",
        "  plt.show()"
      ],
      "metadata": {
        "colab": {
          "base_uri": "https://localhost:8080/",
          "height": 1000
        },
        "id": "zC1DhvBmAmfv",
        "outputId": "fbde27dc-8d1a-4ceb-c4ff-ae3f8d244885"
      },
      "id": "zC1DhvBmAmfv",
      "execution_count": null,
      "outputs": [
        {
          "output_type": "stream",
          "name": "stdout",
          "text": [
            "['SourceIP', 'DestinationIP', 'SourcePort', 'DestinationPort', 'Protocol', 'BytesSent', 'BytesReceived', 'PacketsSent', 'PacketsReceived', 'Duration', 'IsAnomaly', 'TotalBytes', 'TotalPackets']\n"
          ]
        },
        {
          "output_type": "display_data",
          "data": {
            "text/plain": [
              "<Figure size 640x480 with 1 Axes>"
            ],
            "image/png": "[encoded data removed]"
          },
          "metadata": {}
        },
        {
          "output_type": "display_data",
          "data": {
            "text/plain": [
              "<Figure size 640x480 with 1 Axes>"
            ],
            "image/png": "[encoded data removed]"
          },
          "metadata": {}
        },
        {
          "output_type": "display_data",
          "data": {
            "text/plain": [
              "<Figure size 640x480 with 1 Axes>"
            ],
            "image/png": "[encoded data removed]"
          },
          "metadata": {}
        },
        {
          "output_type": "display_data",
          "data": {
            "text/plain": [
              "<Figure size 640x480 with 1 Axes>"
            ],
            "image/png": "[encoded data removed]"
          },
          "metadata": {}
        },
        {
          "output_type": "display_data",
          "data": {
            "text/plain": [
              "<Figure size 640x480 with 1 Axes>"
            ],
            "image/png": "[encoded data removed]"
          },
          "metadata": {}
        },
        {
          "output_type": "display_data",
          "data": {
            "text/plain": [
              "<Figure size 640x480 with 1 Axes>"
            ],
            "image/png": "[encoded data removed]"
          },
          "metadata": {}
        },
        {
          "output_type": "display_data",
          "data": {
            "text/plain": [
              "<Figure size 640x480 with 1 Axes>"
            ],
            "image/png": "[encoded data removed]"
          },
          "metadata": {}
        },
        {
          "output_type": "display_data",
          "data": {
            "text/plain": [
              "<Figure size 640x480 with 1 Axes>"
            ],
            "image/png": "[encoded data removed]"
          },
          "metadata": {}
        },
        {
          "output_type": "display_data",
          "data": {
            "text/plain": [
              "<Figure size 640x480 with 1 Axes>"
            ],
            "image/png": "[encoded data removed]"
          },
          "metadata": {}
        },
        {
          "output_type": "display_data",
          "data": {
            "text/plain": [
              "<Figure size 640x480 with 1 Axes>"
            ],
            "image/png": "[encoded data removed]"
          },
          "metadata": {}
        },
        {
          "output_type": "display_data",
          "data": {
            "text/plain": [
              "<Figure size 640x480 with 1 Axes>"
            ],
            "image/png": "[encoded data removed]"
          },
          "metadata": {}
        },
        {
          "output_type": "display_data",
          "data": {
            "text/plain": [
              "<Figure size 640x480 with 1 Axes>"
            ],
            "image/png": "[encoded data removed]"
          },
          "metadata": {}
        },
        {
          "output_type": "display_data",
          "data": {
            "text/plain": [
              "<Figure size 640x480 with 1 Axes>"
            ],
            "image/png": "[encoded data removed]"
          },
          "metadata": {}
        }
      ]
    },
    {
      "cell_type": "code",
      "source": [
        "for col in num_cols:\n",
        "  num_df[col] = num_df[col].fillna(num_df[col].median())"
      ],
      "metadata": {
        "id": "vOop7gMOBx5U"
      },
      "id": "vOop7gMOBx5U",
      "execution_count": null,
      "outputs": []
    },
    {
      "cell_type": "code",
      "source": [
        "num_df.isna().sum()"
      ],
      "metadata": {
        "colab": {
          "base_uri": "https://localhost:8080/",
          "height": 491
        },
        "id": "d2mYNNQRB8IT",
        "outputId": "9d8bc5e8-dbb8-44e7-9339-1ad70f98ad1e"
      },
      "id": "d2mYNNQRB8IT",
      "execution_count": null,
      "outputs": [
        {
          "output_type": "execute_result",
          "data": {
            "text/plain": [
              "SourceIP           0\n",
              "DestinationIP      0\n",
              "SourcePort         0\n",
              "DestinationPort    0\n",
              "Protocol           0\n",
              "BytesSent          0\n",
              "BytesReceived      0\n",
              "PacketsSent        0\n",
              "PacketsReceived    0\n",
              "Duration           0\n",
              "IsAnomaly          0\n",
              "TotalBytes         0\n",
              "TotalPackets       0\n",
              "dtype: int64"
            ],
            "text/html": [
              "<div>\n",
              "<style scoped>\n",
              "    .dataframe tbody tr th:only-of-type {\n",
              "        vertical-align: middle;\n",
              "    }\n",
              "\n",
              "    .dataframe tbody tr th {\n",
              "        vertical-align: top;\n",
              "    }\n",
              "\n",
              "    .dataframe thead th {\n",
              "        text-align: right;\n",
              "    }\n",
              "</style>\n",
              "<table border=\"1\" class=\"dataframe\">\n",
              "  <thead>\n",
              "    <tr style=\"text-align: right;\">\n",
              "      <th></th>\n",
              "      <th>0</th>\n",
              "    </tr>\n",
              "  </thead>\n",
              "  <tbody>\n",
              "    <tr>\n",
              "      <th>SourceIP</th>\n",
              "      <td>0</td>\n",
              "    </tr>\n",
              "    <tr>\n",
              "      <th>DestinationIP</th>\n",
              "      <td>0</td>\n",
              "    </tr>\n",
              "    <tr>\n",
              "      <th>SourcePort</th>\n",
              "      <td>0</td>\n",
              "    </tr>\n",
              "    <tr>\n",
              "      <th>DestinationPort</th>\n",
              "      <td>0</td>\n",
              "    </tr>\n",
              "    <tr>\n",
              "      <th>Protocol</th>\n",
              "      <td>0</td>\n",
              "    </tr>\n",
              "    <tr>\n",
              "      <th>BytesSent</th>\n",
              "      <td>0</td>\n",
              "    </tr>\n",
              "    <tr>\n",
              "      <th>BytesReceived</th>\n",
              "      <td>0</td>\n",
              "    </tr>\n",
              "    <tr>\n",
              "      <th>PacketsSent</th>\n",
              "      <td>0</td>\n",
              "    </tr>\n",
              "    <tr>\n",
              "      <th>PacketsReceived</th>\n",
              "      <td>0</td>\n",
              "    </tr>\n",
              "    <tr>\n",
              "      <th>Duration</th>\n",
              "      <td>0</td>\n",
              "    </tr>\n",
              "    <tr>\n",
              "      <th>IsAnomaly</th>\n",
              "      <td>0</td>\n",
              "    </tr>\n",
              "    <tr>\n",
              "      <th>TotalBytes</th>\n",
              "      <td>0</td>\n",
              "    </tr>\n",
              "    <tr>\n",
              "      <th>TotalPackets</th>\n",
              "      <td>0</td>\n",
              "    </tr>\n",
              "  </tbody>\n",
              "</table>\n",
              "</div><br><label><b>dtype:</b> int64</label>"
            ]
          },
          "metadata": {},
          "execution_count": 51
        }
      ]
    },
    {
      "cell_type": "code",
      "source": [
        "plt.boxplot(num_df)\n",
        "plt.show()"
      ],
      "metadata": {
        "colab": {
          "base_uri": "https://localhost:8080/",
          "height": 434
        },
        "id": "WXCkzViXB_z9",
        "outputId": "6bc882ca-1076-401e-9e3c-dfc3f9375426"
      },
      "id": "WXCkzViXB_z9",
      "execution_count": null,
      "outputs": [
        {
          "output_type": "display_data",
          "data": {
            "text/plain": [
              "<Figure size 640x480 with 1 Axes>"
            ],
            "image/png": "[encoded data removed]"
          },
          "metadata": {}
        }
      ]
    },
    {
      "cell_type": "code",
      "source": [
        "def replace_outliers_with_upper_bound(df, column_name):\n",
        "    q1 = df[column_name].quantile(0.25)\n",
        "    q3 = df[column_name].quantile(0.75)\n",
        "    iqr = q3 - q1\n",
        "    upper_bound = q3 + 1.5 * iqr\n",
        "    lower_bound = q1 - 1.5 * iqr\n",
        "    df[column_name] = df[column_name].clip(upper=upper_bound)\n",
        "    df[column_name] = df[column_name].clip(lower=lower_bound)\n",
        "    return df[column_name]"
      ],
      "metadata": {
        "id": "Wc6BA_DFCEfJ"
      },
      "id": "Wc6BA_DFCEfJ",
      "execution_count": null,
      "outputs": []
    },
    {
      "cell_type": "code",
      "source": [
        "for col in num_cols:\n",
        "  num_df[col] = replace_outliers_with_upper_bound(num_df, col)"
      ],
      "metadata": {
        "id": "KDVGr3i6CKLl"
      },
      "id": "KDVGr3i6CKLl",
      "execution_count": null,
      "outputs": []
    },
    {
      "cell_type": "code",
      "source": [
        "plt.boxplot(num_df)\n",
        "plt.show()"
      ],
      "metadata": {
        "colab": {
          "base_uri": "https://localhost:8080/",
          "height": 430
        },
        "id": "VQMa8x6oCOXP",
        "outputId": "a7484716-a492-4edb-e479-85d20f7f81db"
      },
      "id": "VQMa8x6oCOXP",
      "execution_count": null,
      "outputs": [
        {
          "output_type": "display_data",
          "data": {
            "text/plain": [
              "<Figure size 640x480 with 1 Axes>"
            ],
            "image/png": "[encoded data removed]"
          },
          "metadata": {}
        }
      ]
    },
    {
      "cell_type": "code",
      "source": [
        "for col in num_cols[:-1]:\n",
        "  num_df[col] = (num_df[col]-num_df[col].min())/(num_df[col].max()-num_df[col].min())"
      ],
      "metadata": {
        "id": "KuPhFoSaCU0M"
      },
      "id": "KuPhFoSaCU0M",
      "execution_count": null,
      "outputs": []
    },
    {
      "cell_type": "code",
      "source": [
        "plt.boxplot(num_df)\n",
        "plt.show()"
      ],
      "metadata": {
        "colab": {
          "base_uri": "https://localhost:8080/",
          "height": 430
        },
        "id": "tZdXqU-6Cc7T",
        "outputId": "41693529-41d7-44a8-faeb-dae24b9e215b"
      },
      "id": "tZdXqU-6Cc7T",
      "execution_count": null,
      "outputs": [
        {
          "output_type": "display_data",
          "data": {
            "text/plain": [
              "<Figure size 640x480 with 1 Axes>"
            ],
            "image/png": "[encoded data removed]"
          },
          "metadata": {}
        }
      ]
    },
    {
      "cell_type": "code",
      "source": [
        "cat_df.head(2)"
      ],
      "metadata": {
        "colab": {
          "base_uri": "https://localhost:8080/",
          "height": 95
        },
        "id": "LH2hH4oACgmx",
        "outputId": "758555ce-6fc4-4f03-b123-8df287c5d7b7"
      },
      "id": "LH2hH4oACgmx",
      "execution_count": null,
      "outputs": [
        {
          "output_type": "execute_result",
          "data": {
            "text/plain": [
              "Empty DataFrame\n",
              "Columns: []\n",
              "Index: [0, 1]"
            ],
            "text/html": [
              "\n",
              "  <div id=\"df-b21c7d43-5ab3-407b-ba8e-39dfc9849e50\" class=\"colab-df-container\">\n",
              "    <div>\n",
              "<style scoped>\n",
              "    .dataframe tbody tr th:only-of-type {\n",
              "        vertical-align: middle;\n",
              "    }\n",
              "\n",
              "    .dataframe tbody tr th {\n",
              "        vertical-align: top;\n",
              "    }\n",
              "\n",
              "    .dataframe thead th {\n",
              "        text-align: right;\n",
              "    }\n",
              "</style>\n",
              "<table border=\"1\" class=\"dataframe\">\n",
              "  <thead>\n",
              "    <tr style=\"text-align: right;\">\n",
              "      <th></th>\n",
              "    </tr>\n",
              "  </thead>\n",
              "  <tbody>\n",
              "    <tr>\n",
              "      <th>0</th>\n",
              "    </tr>\n",
              "    <tr>\n",
              "      <th>1</th>\n",
              "    </tr>\n",
              "  </tbody>\n",
              "</table>\n",
              "</div>\n",
              "    <div class=\"colab-df-buttons\">\n",
              "\n",
              "  <div class=\"colab-df-container\">\n",
              "    <button class=\"colab-df-convert\" onclick=\"convertToInteractive('df-b21c7d43-5ab3-407b-ba8e-39dfc9849e50')\"\n",
              "            title=\"Convert this dataframe to an interactive table.\"\n",
              "            style=\"display:none;\">\n",
              "\n",
              "  <svg xmlns=\"http://www.w3.org/2000/svg\" height=\"24px\" viewBox=\"0 -960 960 960\">\n",
              "    <path d=\"M120-120v-720h720v720H120Zm60-500h600v-160H180v160Zm220 220h160v-160H400v160Zm0 220h160v-160H400v160ZM180-400h160v-160H180v160Zm440 0h160v-160H620v160ZM180-180h160v-160H180v160Zm440 0h160v-160H620v160Z\"/>\n",
              "  </svg>\n",
              "    </button>\n",
              "\n",
              "  <style>\n",
              "    .colab-df-container {\n",
              "      display:flex;\n",
              "      gap: 12px;\n",
              "    }\n",
              "\n",
              "    .colab-df-convert {\n",
              "      background-color: #E8F0FE;\n",
              "      border: none;\n",
              "      border-radius: 50%;\n",
              "      cursor: pointer;\n",
              "      display: none;\n",
              "      fill: #1967D2;\n",
              "      height: 32px;\n",
              "      padding: 0 0 0 0;\n",
              "      width: 32px;\n",
              "    }\n",
              "\n",
              "    .colab-df-convert:hover {\n",
              "      background-color: #E2EBFA;\n",
              "      box-shadow: 0px 1px 2px rgba(60, 64, 67, 0.3), 0px 1px 3px 1px rgba(60, 64, 67, 0.15);\n",
              "      fill: #174EA6;\n",
              "    }\n",
              "\n",
              "    .colab-df-buttons div {\n",
              "      margin-bottom: 4px;\n",
              "    }\n",
              "\n",
              "    [theme=dark] .colab-df-convert {\n",
              "      background-color: #3B4455;\n",
              "      fill: #D2E3FC;\n",
              "    }\n",
              "\n",
              "    [theme=dark] .colab-df-convert:hover {\n",
              "      background-color: #434B5C;\n",
              "      box-shadow: 0px 1px 3px 1px rgba(0, 0, 0, 0.15);\n",
              "      filter: drop-shadow(0px 1px 2px rgba(0, 0, 0, 0.3));\n",
              "      fill: #FFFFFF;\n",
              "    }\n",
              "  </style>\n",
              "\n",
              "    <script>\n",
              "      const buttonEl =\n",
              "        document.querySelector('#df-b21c7d43-5ab3-407b-ba8e-39dfc9849e50 button.colab-df-convert');\n",
              "      buttonEl.style.display =\n",
              "        google.colab.kernel.accessAllowed ? 'block' : 'none';\n",
              "\n",
              "      async function convertToInteractive(key) {\n",
              "        const element = document.querySelector('#df-b21c7d43-5ab3-407b-ba8e-39dfc9849e50');\n",
              "        const dataTable =\n",
              "          await google.colab.kernel.invokeFunction('convertToInteractive',\n",
              "                                                    [key], {});\n",
              "        if (!dataTable) return;\n",
              "\n",
              "        const docLinkHtml = 'Like what you see? Visit the ' +\n",
              "          '<a target=\"_blank\" href=https://colab.research.google.com/notebooks/data_table.ipynb>data table notebook</a>'\n",
              "          + ' to learn more about interactive tables.';\n",
              "        element.innerHTML = '';\n",
              "        dataTable['output_type'] = 'display_data';\n",
              "        await google.colab.output.renderOutput(dataTable, element);\n",
              "        const docLink = document.createElement('div');\n",
              "        docLink.innerHTML = docLinkHtml;\n",
              "        element.appendChild(docLink);\n",
              "      }\n",
              "    </script>\n",
              "  </div>\n",
              "\n",
              "\n",
              "<div id=\"df-41f86c74-f347-4a46-87d9-f0243227a880\">\n",
              "  <button class=\"colab-df-quickchart\" onclick=\"quickchart('df-41f86c74-f347-4a46-87d9-f0243227a880')\"\n",
              "            title=\"Suggest charts\"\n",
              "            style=\"display:none;\">\n",
              "\n",
              "<svg xmlns=\"http://www.w3.org/2000/svg\" height=\"24px\"viewBox=\"0 0 24 24\"\n",
              "     width=\"24px\">\n",
              "    <g>\n",
              "        <path d=\"M19 3H5c-1.1 0-2 .9-2 2v14c0 1.1.9 2 2 2h14c1.1 0 2-.9 2-2V5c0-1.1-.9-2-2-2zM9 17H7v-7h2v7zm4 0h-2V7h2v10zm4 0h-2v-4h2v4z\"/>\n",
              "    </g>\n",
              "</svg>\n",
              "  </button>\n",
              "\n",
              "<style>\n",
              "  .colab-df-quickchart {\n",
              "      --bg-color: #E8F0FE;\n",
              "      --fill-color: #1967D2;\n",
              "      --hover-bg-color: #E2EBFA;\n",
              "      --hover-fill-color: #174EA6;\n",
              "      --disabled-fill-color: #AAA;\n",
              "      --disabled-bg-color: #DDD;\n",
              "  }\n",
              "\n",
              "  [theme=dark] .colab-df-quickchart {\n",
              "      --bg-color: #3B4455;\n",
              "      --fill-color: #D2E3FC;\n",
              "      --hover-bg-color: #434B5C;\n",
              "      --hover-fill-color: #FFFFFF;\n",
              "      --disabled-bg-color: #3B4455;\n",
              "      --disabled-fill-color: #666;\n",
              "  }\n",
              "\n",
              "  .colab-df-quickchart {\n",
              "    background-color: var(--bg-color);\n",
              "    border: none;\n",
              "    border-radius: 50%;\n",
              "    cursor: pointer;\n",
              "    display: none;\n",
              "    fill: var(--fill-color);\n",
              "    height: 32px;\n",
              "    padding: 0;\n",
              "    width: 32px;\n",
              "  }\n",
              "\n",
              "  .colab-df-quickchart:hover {\n",
              "    background-color: var(--hover-bg-color);\n",
              "    box-shadow: 0 1px 2px rgba(60, 64, 67, 0.3), 0 1px 3px 1px rgba(60, 64, 67, 0.15);\n",
              "    fill: var(--button-hover-fill-color);\n",
              "  }\n",
              "\n",
              "  .colab-df-quickchart-complete:disabled,\n",
              "  .colab-df-quickchart-complete:disabled:hover {\n",
              "    background-color: var(--disabled-bg-color);\n",
              "    fill: var(--disabled-fill-color);\n",
              "    box-shadow: none;\n",
              "  }\n",
              "\n",
              "  .colab-df-spinner {\n",
              "    border: 2px solid var(--fill-color);\n",
              "    border-color: transparent;\n",
              "    border-bottom-color: var(--fill-color);\n",
              "    animation:\n",
              "      spin 1s steps(1) infinite;\n",
              "  }\n",
              "\n",
              "  @keyframes spin {\n",
              "    0% {\n",
              "      border-color: transparent;\n",
              "      border-bottom-color: var(--fill-color);\n",
              "      border-left-color: var(--fill-color);\n",
              "    }\n",
              "    20% {\n",
              "      border-color: transparent;\n",
              "      border-left-color: var(--fill-color);\n",
              "      border-top-color: var(--fill-color);\n",
              "    }\n",
              "    30% {\n",
              "      border-color: transparent;\n",
              "      border-left-color: var(--fill-color);\n",
              "      border-top-color: var(--fill-color);\n",
              "      border-right-color: var(--fill-color);\n",
              "    }\n",
              "    40% {\n",
              "      border-color: transparent;\n",
              "      border-right-color: var(--fill-color);\n",
              "      border-top-color: var(--fill-color);\n",
              "    }\n",
              "    60% {\n",
              "      border-color: transparent;\n",
              "      border-right-color: var(--fill-color);\n",
              "    }\n",
              "    80% {\n",
              "      border-color: transparent;\n",
              "      border-right-color: var(--fill-color);\n",
              "      border-bottom-color: var(--fill-color);\n",
              "    }\n",
              "    90% {\n",
              "      border-color: transparent;\n",
              "      border-bottom-color: var(--fill-color);\n",
              "    }\n",
              "  }\n",
              "</style>\n",
              "\n",
              "  <script>\n",
              "    async function quickchart(key) {\n",
              "      const quickchartButtonEl =\n",
              "        document.querySelector('#' + key + ' button');\n",
              "      quickchartButtonEl.disabled = true;  // To prevent multiple clicks.\n",
              "      quickchartButtonEl.classList.add('colab-df-spinner');\n",
              "      try {\n",
              "        const charts = await google.colab.kernel.invokeFunction(\n",
              "            'suggestCharts', [key], {});\n",
              "      } catch (error) {\n",
              "        console.error('Error during call to suggestCharts:', error);\n",
              "      }\n",
              "      quickchartButtonEl.classList.remove('colab-df-spinner');\n",
              "      quickchartButtonEl.classList.add('colab-df-quickchart-complete');\n",
              "    }\n",
              "    (() => {\n",
              "      let quickchartButtonEl =\n",
              "        document.querySelector('#df-41f86c74-f347-4a46-87d9-f0243227a880 button');\n",
              "      quickchartButtonEl.style.display =\n",
              "        google.colab.kernel.accessAllowed ? 'block' : 'none';\n",
              "    })();\n",
              "  </script>\n",
              "</div>\n",
              "\n",
              "    </div>\n",
              "  </div>\n"
            ],
            "application/vnd.google.colaboratory.intrinsic+json": {
              "type": "dataframe",
              "variable_name": "cat_df"
            }
          },
          "metadata": {},
          "execution_count": 58
        }
      ]
    },
    {
      "cell_type": "code",
      "source": [
        "cat_cols = cat_df.columns.tolist()"
      ],
      "metadata": {
        "id": "EBD5aJbKCkrY"
      },
      "id": "EBD5aJbKCkrY",
      "execution_count": null,
      "outputs": []
    },
    {
      "cell_type": "code",
      "source": [
        "for col in cat_cols:\n",
        "  print(cat_df[col].value_counts())"
      ],
      "metadata": {
        "id": "E1Hv-C4PCoZO"
      },
      "id": "E1Hv-C4PCoZO",
      "execution_count": null,
      "outputs": []
    },
    {
      "cell_type": "code",
      "source": [
        "data = data.fillna(0)"
      ],
      "metadata": {
        "id": "7Y9tFHAACy7a"
      },
      "id": "7Y9tFHAACy7a",
      "execution_count": null,
      "outputs": []
    },
    {
      "cell_type": "code",
      "source": [
        "scaler = StandardScaler()\n",
        "X_scaled = scaler.fit_transform(X)"
      ],
      "metadata": {
        "id": "U34dtLb-D538"
      },
      "id": "U34dtLb-D538",
      "execution_count": null,
      "outputs": []
    },
    {
      "cell_type": "code",
      "source": [
        "y = y.apply(lambda x: 1 if x == 'Anomalous' else 0)\n",
        "X_train, X_test, y_train, y_test = train_test_split(X_scaled, y, test_size=0.3, random_state=42, stratify=y)"
      ],
      "metadata": {
        "id": "TyXS8OkpF2n3"
      },
      "id": "TyXS8OkpF2n3",
      "execution_count": null,
      "outputs": []
    },
    {
      "cell_type": "code",
      "source": [
        "print(\"\\nData Split Completed:\")\n",
        "print(f\"Training Data Shape: {X_train.shape}, Testing Data Shape: {X_test.shape}\")"
      ],
      "metadata": {
        "colab": {
          "base_uri": "https://localhost:8080/"
        },
        "id": "r9mjHQ0pF7Np",
        "outputId": "46ce12aa-7f3b-44d5-d0ce-e997bce573b5"
      },
      "id": "r9mjHQ0pF7Np",
      "execution_count": null,
      "outputs": [
        {
          "output_type": "stream",
          "name": "stdout",
          "text": [
            "\n",
            "Data Split Completed:\n",
            "Training Data Shape: (141348, 12), Testing Data Shape: (60578, 12)\n"
          ]
        }
      ]
    },
    {
      "cell_type": "code",
      "source": [
        "train_preds = model.predict(X_train)\n",
        "train_preds = np.where(train_preds == -1, 1, 0)  # Convert -1 (anomaly) to 1 and 1 (normal) to 0\n",
        "\n"
      ],
      "metadata": {
        "id": "FGwDuYROGRzO"
      },
      "id": "FGwDuYROGRzO",
      "execution_count": null,
      "outputs": []
    },
    {
      "cell_type": "code",
      "source": [
        "test_preds = model.predict(X_test)\n",
        "test_preds = np.where(test_preds == -1, 1, 0)"
      ],
      "metadata": {
        "id": "1T3gBe1uGiHv"
      },
      "id": "1T3gBe1uGiHv",
      "execution_count": null,
      "outputs": []
    },
    {
      "cell_type": "code",
      "source": [
        "print(\"\\nEvaluation on Training Data:\")\n",
        "print(classification_report(y_train, train_preds))"
      ],
      "metadata": {
        "colab": {
          "base_uri": "https://localhost:8080/"
        },
        "id": "Q0BUTNG7Gncr",
        "outputId": "ed38b49d-10ad-45fb-a601-ac0638eff07e"
      },
      "id": "Q0BUTNG7Gncr",
      "execution_count": null,
      "outputs": [
        {
          "output_type": "stream",
          "name": "stdout",
          "text": [
            "\n",
            "Evaluation on Training Data:\n",
            "              precision    recall  f1-score   support\n",
            "\n",
            "           0       1.00      0.95      0.97    141348\n",
            "           1       0.00      0.00      0.00         0\n",
            "\n",
            "    accuracy                           0.95    141348\n",
            "   macro avg       0.50      0.47      0.49    141348\n",
            "weighted avg       1.00      0.95      0.97    141348\n",
            "\n"
          ]
        },
        {
          "output_type": "stream",
          "name": "stderr",
          "text": [
            "/usr/local/lib/python3.11/dist-packages/sklearn/metrics/_classification.py:1565: UndefinedMetricWarning: Recall is ill-defined and being set to 0.0 in labels with no true samples. Use `zero_division` parameter to control this behavior.\n",
            "  _warn_prf(average, modifier, f\"{metric.capitalize()} is\", len(result))\n",
            "/usr/local/lib/python3.11/dist-packages/sklearn/metrics/_classification.py:1565: UndefinedMetricWarning: Recall is ill-defined and being set to 0.0 in labels with no true samples. Use `zero_division` parameter to control this behavior.\n",
            "  _warn_prf(average, modifier, f\"{metric.capitalize()} is\", len(result))\n",
            "/usr/local/lib/python3.11/dist-packages/sklearn/metrics/_classification.py:1565: UndefinedMetricWarning: Recall is ill-defined and being set to 0.0 in labels with no true samples. Use `zero_division` parameter to control this behavior.\n",
            "  _warn_prf(average, modifier, f\"{metric.capitalize()} is\", len(result))\n"
          ]
        }
      ]
    },
    {
      "cell_type": "code",
      "source": [
        "print(\"\\nEvaluation on Testing Data:\")\n",
        "print(classification_report(y_test, test_preds))"
      ],
      "metadata": {
        "colab": {
          "base_uri": "https://localhost:8080/"
        },
        "id": "7x81sFAlGsJY",
        "outputId": "a6f4a242-2d95-420b-fb69-5f69d54a426c"
      },
      "id": "7x81sFAlGsJY",
      "execution_count": null,
      "outputs": [
        {
          "output_type": "stream",
          "name": "stdout",
          "text": [
            "\n",
            "Evaluation on Testing Data:\n",
            "              precision    recall  f1-score   support\n",
            "\n",
            "           0       1.00      0.95      0.97     60578\n",
            "           1       0.00      0.00      0.00         0\n",
            "\n",
            "    accuracy                           0.95     60578\n",
            "   macro avg       0.50      0.48      0.49     60578\n",
            "weighted avg       1.00      0.95      0.97     60578\n",
            "\n"
          ]
        },
        {
          "output_type": "stream",
          "name": "stderr",
          "text": [
            "/usr/local/lib/python3.11/dist-packages/sklearn/metrics/_classification.py:1565: UndefinedMetricWarning: Recall is ill-defined and being set to 0.0 in labels with no true samples. Use `zero_division` parameter to control this behavior.\n",
            "  _warn_prf(average, modifier, f\"{metric.capitalize()} is\", len(result))\n",
            "/usr/local/lib/python3.11/dist-packages/sklearn/metrics/_classification.py:1565: UndefinedMetricWarning: Recall is ill-defined and being set to 0.0 in labels with no true samples. Use `zero_division` parameter to control this behavior.\n",
            "  _warn_prf(average, modifier, f\"{metric.capitalize()} is\", len(result))\n",
            "/usr/local/lib/python3.11/dist-packages/sklearn/metrics/_classification.py:1565: UndefinedMetricWarning: Recall is ill-defined and being set to 0.0 in labels with no true samples. Use `zero_division` parameter to control this behavior.\n",
            "  _warn_prf(average, modifier, f\"{metric.capitalize()} is\", len(result))\n"
          ]
        }
      ]
    },
    {
      "cell_type": "code",
      "source": [
        "cm = confusion_matrix(y_test, test_preds)\n",
        "sns.heatmap(cm, annot=True, fmt='d', cmap='Blues')\n",
        "plt.title(\"Confusion Matrix\")\n",
        "plt.xlabel(\"Predicted\")\n",
        "plt.ylabel(\"Actual\")\n",
        "plt.show()"
      ],
      "metadata": {
        "colab": {
          "base_uri": "https://localhost:8080/",
          "height": 472
        },
        "id": "ZyaMzFx1GzjK",
        "outputId": "a8190f16-f345-4576-c989-1879142bf781"
      },
      "id": "ZyaMzFx1GzjK",
      "execution_count": null,
      "outputs": [
        {
          "output_type": "display_data",
          "data": {
            "text/plain": [
              "<Figure size 640x480 with 2 Axes>"
            ],
            "image/png": "[encoded data removed]"
          },
          "metadata": {}
        }
      ]
    },
    {
      "cell_type": "code",
      "source": [
        "from sklearn.metrics import roc_auc_score\n",
        "auc = roc_auc_score(y_test, test_preds)\n",
        "print(f\"AUC-ROC Score: {auc:.2f}\")"
      ],
      "metadata": {
        "colab": {
          "base_uri": "https://localhost:8080/"
        },
        "id": "3S3eewD-G5sQ",
        "outputId": "0ed63052-2874-45d7-a947-48bb47b67232"
      },
      "id": "3S3eewD-G5sQ",
      "execution_count": null,
      "outputs": [
        {
          "output_type": "stream",
          "name": "stdout",
          "text": [
            "AUC-ROC Score: nan\n"
          ]
        },
        {
          "output_type": "stream",
          "name": "stderr",
          "text": [
            "/usr/local/lib/python3.11/dist-packages/sklearn/metrics/_ranking.py:379: UndefinedMetricWarning: Only one class is present in y_true. ROC AUC score is not defined in that case.\n",
            "  warnings.warn(\n"
          ]
        }
      ]
    },
    {
      "cell_type": "code",
      "source": [
        "import joblib\n",
        "\n",
        "# Assuming 'isolation_forest' is your trained IsolationForest model\n",
        "joblib.dump(isolation_forest, 'isolationforest_model.pkl')\n",
        "print(\"Model saved as isolationforest_model.pkl\")\n"
      ],
      "metadata": {
        "colab": {
          "base_uri": "https://localhost:8080/"
        },
        "id": "IcAw0UOBIaK2",
        "outputId": "5ca394d1-9c71-4109-cbce-90de2f20db4f"
      },
      "id": "IcAw0UOBIaK2",
      "execution_count": null,
      "outputs": [
        {
          "output_type": "stream",
          "name": "stdout",
          "text": [
            "Model saved as isolationforest_model.pkl\n"
          ]
        }
      ]
    },
    {
      "cell_type": "code",
      "source": [
        "import joblib\n",
        "\n",
        "# Assuming 'isolation_forest' is your trained IsolationForest model\n",
        "joblib.dump(isolation_forest, 'isolationforest_model.pkl')\n",
        "print(\"Model saved as isolationforest_model.pkl\")\n"
      ],
      "metadata": {
        "colab": {
          "base_uri": "https://localhost:8080/"
        },
        "id": "knV7Y6O-IhGl",
        "outputId": "cf7a0e79-dc30-42f6-b596-0c723b93f8c1"
      },
      "id": "knV7Y6O-IhGl",
      "execution_count": null,
      "outputs": [
        {
          "output_type": "stream",
          "name": "stdout",
          "text": [
            "Model saved as isolationforest_model.pkl\n"
          ]
        }
      ]
    },
    {
      "cell_type": "code",
      "source": [
        "import joblib\n",
        "joblib.dump(model, '/content/isolationforest_model.pkl')  # Save model\n",
        "print(\"\\nModel saved to Google Drive.\")"
      ],
      "metadata": {
        "colab": {
          "base_uri": "https://localhost:8080/"
        },
        "id": "UFOaEFFWHBjH",
        "outputId": "14cfe059-83ba-4970-9ad0-2f4d9b542065"
      },
      "id": "UFOaEFFWHBjH",
      "execution_count": null,
      "outputs": [
        {
          "output_type": "stream",
          "name": "stdout",
          "text": [
            "\n",
            "Model saved to Google Drive.\n"
          ]
        }
      ]
    },
    {
      "cell_type": "code",
      "source": [
        "from google.colab import drive\n",
        "drive.mount('/content/drive')"
      ],
      "metadata": {
        "colab": {
          "base_uri": "https://localhost:8080/"
        },
        "id": "nVHHQz5-JODY",
        "outputId": "9ed1b6df-b573-4abd-cf13-673e9a6f362d"
      },
      "id": "nVHHQz5-JODY",
      "execution_count": null,
      "outputs": [
        {
          "output_type": "stream",
          "name": "stdout",
          "text": [
            "Mounted at /content/drive\n"
          ]
        }
      ]
    },
    {
      "cell_type": "code",
      "source": [
        "results = pd.DataFrame({'Actual': y_test, 'Predicted': test_preds})\n",
        "results.to_csv('/content/drive/MyDrive/Anomaly_Detection_Results.csv', index=False)  # Save predictions\n",
        "print(\"Results saved to Google Drive.\")"
      ],
      "metadata": {
        "colab": {
          "base_uri": "https://localhost:8080/"
        },
        "id": "r1X3b3IEHzBr",
        "outputId": "74ef15dc-a30d-49d8-f5d6-48f54999d288"
      },
      "id": "r1X3b3IEHzBr",
      "execution_count": null,
      "outputs": [
        {
          "output_type": "stream",
          "name": "stdout",
          "text": [
            "Results saved to Google Drive.\n"
          ]
        }
      ]
    },
    {
      "cell_type": "code",
      "source": [
        "sns.countplot(x=y)\n",
        "plt.title(\"Class Distribution\")\n",
        "plt.show()\n"
      ],
      "metadata": {
        "colab": {
          "base_uri": "https://localhost:8080/",
          "height": 472
        },
        "id": "pDp6l0tgI8nA",
        "outputId": "6d66e930-891d-4a45-a722-9a76185aef07"
      },
      "id": "pDp6l0tgI8nA",
      "execution_count": null,
      "outputs": [
        {
          "output_type": "display_data",
          "data": {
            "text/plain": [
              "<Figure size 640x480 with 1 Axes>"
            ],
            "image/png": "[encoded data removed]"
          },
          "metadata": {}
        }
      ]
    },
    {
      "cell_type": "code",
      "source": [
        "correlation_matrix = pd.DataFrame(X, columns=data.columns[:-1]).corr()\n",
        "sns.heatmap(correlation_matrix, annot=False, cmap='coolwarm')\n",
        "plt.title(\"Feature Correlation Heatmap\")\n",
        "plt.show()"
      ],
      "metadata": {
        "colab": {
          "base_uri": "https://localhost:8080/",
          "height": 554
        },
        "id": "yJ60wBkyJeAa",
        "outputId": "8b5ac182-7590-4d11-b9d8-4dcee2616037"
      },
      "id": "yJ60wBkyJeAa",
      "execution_count": null,
      "outputs": [
        {
          "output_type": "display_data",
          "data": {
            "text/plain": [
              "<Figure size 640x480 with 2 Axes>"
            ],
            "image/png": "[encoded data removed]"
          },
          "metadata": {}
        }
      ]
    },
    {
      "cell_type": "code",
      "source": [],
      "metadata": {
        "id": "tbrbIGWbJjoq"
      },
      "id": "tbrbIGWbJjoq",
      "execution_count": null,
      "outputs": []
    }
  ],
  "metadata": {
    "kernelspec": {
      "display_name": "Python 3",
      "language": "python",
      "name": "python3"
    },
    "language_info": {
      "codemirror_mode": {
        "name": "ipython",
        "version": 3
      },
      "file_extension": ".py",
      "mimetype": "text/x-python",
      "name": "python",
      "nbconvert_exporter": "python",
      "pygments_lexer": "ipython3",
      "version": "3.10.12"
    },
    "papermill": {
      "default_parameters": {},
      "duration": 568.440087,
      "end_time": "2023-09-08T13:46:51.073793",
      "environment_variables": {},
      "exception": null,
      "input_path": "__notebook__.ipynb",
      "output_path": "__notebook__.ipynb",
      "parameters": {},
      "start_time": "2023-09-08T13:37:22.633706",
      "version": "2.4.0"
    },
    "colab": {
      "provenance": [],
      "history_visible": true
    }
  },
  "nbformat": 4,
  "nbformat_minor": 5
}